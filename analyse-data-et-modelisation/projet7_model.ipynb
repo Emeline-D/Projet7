{
 "cells": [
  {
   "cell_type": "code",
   "execution_count": 7,
   "metadata": {
    "colab": {
     "base_uri": "https://localhost:8080/",
     "height": 212
    },
    "colab_type": "code",
    "executionInfo": {
     "elapsed": 9302,
     "status": "ok",
     "timestamp": 1592528086814,
     "user": {
      "displayName": "Emeline Duquenne",
      "photoUrl": "",
      "userId": "00866747826026678947"
     },
     "user_tz": -120
    },
    "id": "syq1mGb7FPSF",
    "outputId": "cfbf34d4-c07d-4c25-d6d0-1a88ea235db5"
   },
   "outputs": [],
   "source": [
    "import numpy as np \n",
    "import pandas as pd\n",
    "# Garbage Collector interface (nettoyage des variables et autres pas utilisées\n",
    "# pour libérer de la mémoire)\n",
    "import gc \n",
    "import time\n",
    "# Utilities for with-statement contexts\n",
    "from contextlib import contextmanager \n",
    "# Gradient boosting framework that uses tree based learning algorithms\n",
    "from lightgbm import LGBMClassifier \n",
    "import matplotlib.pyplot as plt\n",
    "import seaborn as sns\n",
    "import warnings\n",
    "import scipy.stats as st\n",
    "import re\n",
    "import time\n",
    "from datetime import datetime,timedelta\n",
    "import dateutil\n",
    "import random as rd\n",
    "import pickle\n",
    "\n",
    "from sklearn.model_selection import train_test_split,GridSearchCV,StratifiedKFold,cross_val_score\n",
    "from sklearn import metrics\n",
    "from sklearn.dummy import DummyClassifier\n",
    "from sklearn.neighbors import KNeighborsClassifier\n",
    "from sklearn.linear_model import LogisticRegression,RidgeClassifier\n",
    "from sklearn.preprocessing import StandardScaler,MinMaxScaler\n",
    "from sklearn.impute import SimpleImputer\n",
    "from sklearn.neural_network import MLPClassifier\n",
    "from sklearn.metrics import roc_auc_score, roc_curve,precision_recall_fscore_support,accuracy_score,auc,make_scorer,precision_recall_curve,confusion_matrix,f1_score\n",
    "from sklearn.experimental import enable_iterative_imputer \n",
    "from sklearn.impute import IterativeImputer\n",
    "from sklearn import svm\n",
    "from sklearn.ensemble import RandomForestClassifier\n",
    "from sklearn.gaussian_process import GaussianProcessClassifier\n",
    "import lightgbm as lgbm\n",
    "from hyperopt import fmin, tpe, Trials,hp,space_eval\n",
    "import pickle\n",
    "from tabulate import tabulate\n",
    "\n",
    "import warnings"
   ]
  },
  {
   "cell_type": "markdown",
   "metadata": {
    "colab_type": "text",
    "id": "k7PxZi1wuX1T"
   },
   "source": [
    "Ce notebook correspond au projet 7 du parcours Data Scientist. Ce projet consiste en l'implémentation d'un modèle de scoring, qui sera ensuite disponible via un dasboard interactif. Nous développerons donc ici la modélisation de ce scoring. "
   ]
  },
  {
   "cell_type": "markdown",
   "metadata": {
    "colab_type": "text",
    "id": "68CVhfYzvN9J"
   },
   "source": [
    "<h2>Sommaire</h2>\n",
    "\n",
    "1) Initialisation des variables de modélisation\n",
    "\n",
    "2) Benchmark des modèles de machine learning"
   ]
  },
  {
   "cell_type": "code",
   "execution_count": 8,
   "metadata": {
    "colab": {
     "base_uri": "https://localhost:8080/",
     "height": 34
    },
    "colab_type": "code",
    "executionInfo": {
     "elapsed": 109646,
     "status": "ok",
     "timestamp": 1592528187211,
     "user": {
      "displayName": "Emeline Duquenne",
      "photoUrl": "",
      "userId": "00866747826026678947"
     },
     "user_tz": -120
    },
    "id": "6KGWdcNOK8Ho",
    "outputId": "eeaa0b2e-432f-4c15-e667-ab47c2401e54"
   },
   "outputs": [
    {
     "name": "stdout",
     "output_type": "stream",
     "text": [
      "Dataset importé\n"
     ]
    }
   ],
   "source": [
    "data = pd.read_csv('data_model.csv', sep='\\t')\n",
    "print (\"Dataset importé\")\n"
   ]
  },
  {
   "cell_type": "markdown",
   "metadata": {
    "colab_type": "text",
    "id": "2px32dHXwog2"
   },
   "source": [
    "# 1) Initialisation des variables de modélisation"
   ]
  },
  {
   "cell_type": "markdown",
   "metadata": {
    "colab_type": "text",
    "id": "jpAv1CCewrIV"
   },
   "source": [
    "Pour commencer, nous étudions déjà la répartition des scores de clients connus. En effet, ce score est binaire : il est soit de 0 pour les bons clients, soit de 1 pour les mauvais clients. Nous pouvons ainsi voir qu'il y a environ 8% de mauvais clients uniquement, cela sera donc à prendre en compte lors de notre modélisation."
   ]
  },
  {
   "cell_type": "code",
   "execution_count": 9,
   "metadata": {
    "colab": {
     "base_uri": "https://localhost:8080/",
     "height": 372
    },
    "colab_type": "code",
    "executionInfo": {
     "elapsed": 109883,
     "status": "ok",
     "timestamp": 1592528187495,
     "user": {
      "displayName": "Emeline Duquenne",
      "photoUrl": "",
      "userId": "00866747826026678947"
     },
     "user_tz": -120
    },
    "id": "MBmRX49qTSqJ",
    "outputId": "189d3fad-c169-4298-8bd8-d2e899fdb45b"
   },
   "outputs": [
    {
     "name": "stdout",
     "output_type": "stream",
     "text": [
      "{0.0: 282682, 1.0: 24825}\n"
     ]
    },
    {
     "data": {
      "image/png": "[encoded data removed]",
      "text/plain": [
       "<Figure size 720x360 with 1 Axes>"
      ]
     },
     "metadata": {},
     "output_type": "display_data"
    }
   ],
   "source": [
    "target = data.groupby([\"TARGET\"])\n",
    "counttarget = target[\"SK_ID_CURR\"].count()\n",
    "counttarget = counttarget.sort_values(ascending=False)\n",
    "targetlabels = counttarget.index\n",
    "targetsizes = counttarget.values\n",
    "\n",
    "target_dict = {}\n",
    "for n in range(len(targetlabels)):\n",
    "    target_dict[targetlabels[n]] = targetsizes[n]\n",
    "print (target_dict)\n",
    "\n",
    "sns.set()\n",
    "fig1, ax1 = plt.subplots(figsize=(10, 5))\n",
    "sns.barplot(x=targetlabels, y=targetsizes, color='#ff9999', ax=ax1)\n",
    "plt.title(\"Répartition du score des clients\")\n",
    "plt.show()\n"
   ]
  },
  {
   "cell_type": "markdown",
   "metadata": {
    "colab_type": "text",
    "id": "9vrOFMGEuj8R"
   },
   "source": [
    "Nous devons ensuite établir nos différentes valeur de train et de test. \n",
    "\n",
    "Pour commencer, nous nettoyons tout d'abord nos données, en remplaçant les valeurs infinies par des NaN, qui sont ensuite calculées par l'utilisation de l'algorithme IterativeImputer. Cet algorithme impute ainsi aux valeurs manquantes la médiane des autres valeurs disponibles.\n",
    "\n",
    "Une fois ce nettoyage effectué, nous calculons les échantillons train et test en stratifiant selon y (donc selon nos deux valeurs de score vues précédemment). Enfin, nous définissons également les Folds utilisés dans nos futurs modèles testés, et nous scalons et transformons nos X."
   ]
  },
  {
   "cell_type": "code",
   "execution_count": 10,
   "metadata": {
    "colab": {
     "base_uri": "https://localhost:8080/",
     "height": 194
    },
    "colab_type": "code",
    "executionInfo": {
     "elapsed": 134063,
     "status": "ok",
     "timestamp": 1592528211747,
     "user": {
      "displayName": "Emeline Duquenne",
      "photoUrl": "",
      "userId": "00866747826026678947"
     },
     "user_tz": -120
    },
    "id": "0nk4d23ZZu9C",
    "outputId": "ae7b9b28-c6db-4eb8-8a0a-4d91bad468b4"
   },
   "outputs": [
    {
     "name": "stdout",
     "output_type": "stream",
     "text": [
      "Imputation\n"
     ]
    },
    {
     "name": "stderr",
     "output_type": "stream",
     "text": [
      "/home/ubuntu/anaconda3/envs/tensorflow_p36/lib/python3.6/site-packages/numpy/lib/function_base.py:2530: RuntimeWarning: divide by zero encountered in true_divide\n",
      "  c /= stddev[:, None]\n",
      "/home/ubuntu/anaconda3/envs/tensorflow_p36/lib/python3.6/site-packages/numpy/lib/function_base.py:2531: RuntimeWarning: divide by zero encountered in true_divide\n",
      "  c /= stddev[None, :]\n",
      "/home/ubuntu/anaconda3/envs/tensorflow_p36/lib/python3.6/site-packages/sklearn/impute/_iterative.py:638: ConvergenceWarning: [IterativeImputer] Early stopping criterion not reached.\n",
      "  \" reached.\", ConvergenceWarning)\n"
     ]
    },
    {
     "name": "stdout",
     "output_type": "stream",
     "text": [
      "Taille du dataframe X :  3563\n",
      "Taille du dataframe X :  3563\n",
      "Nombre de features : 798\n",
      "Len data : 3563\n",
      "Len Xtrain : 2850 / Len Ytrain : 2850\n",
      "Len Xtest : 713 / Len Ytest : 713\n",
      "StratifiedKFold(n_splits=10, random_state=0, shuffle=True)\n"
     ]
    }
   ],
   "source": [
    "def nan_values(x):\n",
    "    if x.isnull().any():\n",
    "        print (x, \" : Problem\")\n",
    "\n",
    "\n",
    "# Choix de notre échantillon\n",
    "\n",
    "data = data.sample(frac=0.01, random_state=0)\n",
    "\n",
    "data = data.astype('float64')\n",
    "data = data.replace([np.inf, -np.inf], np.nan)\n",
    "\n",
    "valmax = np.finfo(np.float64).max\n",
    "\n",
    "print (\"Imputation\")\n",
    "\n",
    "X = data\n",
    "y = X[\"TARGET\"]\n",
    "imp = IterativeImputer(missing_values=np.nan, sample_posterior=False,\n",
    "                       max_iter=10, tol=0.001, n_nearest_features=4,\n",
    "                       initial_strategy='median', random_state=0)\n",
    "imp.fit(X)\n",
    "X_imp = pd.DataFrame(data=imp.transform(X), columns=X.columns)\n",
    "y = y.fillna(0)\n",
    "\n",
    "X_imp.apply(lambda x: nan_values(x))\n",
    "\n",
    "print (\"Taille du dataframe X : \", len(X_imp))\n",
    "print (\"Taille du dataframe X : \", len(y))\n",
    "print (\"Nombre de features :\", len(X_imp.columns))\n",
    "\n",
    "Xtrain, Xtest, Ytrain, Ytest = train_test_split(X_imp, y, train_size=0.8,\n",
    "                                                stratify=y, random_state=0)\n",
    "Xtest_all = Xtest\n",
    "Xtest = Xtest.drop(['TARGET', 'SK_ID_CURR', 'index'], axis=1)\n",
    "Xtrain = Xtrain.drop(['TARGET', 'SK_ID_CURR', 'index'], axis=1)\n",
    "print (\"Len data : {}\".format(len(data)))\n",
    "print (\"Len Xtrain : {} / Len Ytrain : {}\".format(len(Xtrain), len(Ytrain)))\n",
    "print (\"Len Xtest : {} / Len Ytest : {}\".format(len(Xtest), len(Ytest)))\n",
    "\n",
    "\n",
    "folds = StratifiedKFold(n_splits=10, shuffle=True, random_state=0)\n",
    "print (folds)\n",
    "\n",
    "\n",
    "std_scale = StandardScaler().fit(Xtrain)\n",
    "Xtrain_scaled = std_scale.transform(Xtrain)\n",
    "Xtest_scaled = std_scale.transform(Xtest)\n"
   ]
  },
  {
   "cell_type": "markdown",
   "metadata": {
    "colab_type": "text",
    "id": "r2F8MZGEY1WO"
   },
   "source": [
    "# Benchmark des modèles de machine learning disponibles"
   ]
  },
  {
   "cell_type": "markdown",
   "metadata": {
    "colab_type": "text",
    "id": "RB-VqGfm0AJe"
   },
   "source": [
    "Tout d'abord, nous savons que nous allons utiliser différents modèles, mais en utlisant toujours la même technique : l'algorithme GridSearchCV, couplé ensuite au calcul de plusieurs scores différents. \n",
    "\n",
    "L'algorithme GridSearchCV nous permet en effet de faire tourner, avec les mêmes paramètres de base, tout type d'algorithme de la même manière, ce qui facilite la comparaison entre eux (même fold,...). Les paramètres spécifiques au modèle sont indiqués à part et ajoutés à cet algorithme.\n",
    "\n",
    "Pour les scores calculés, il y en a donc plusieurs :\n",
    "- l'accuracy est le ration des prédictions correctes par rapport au nombre total d'observations. Il ne sera cependant ici qu'indicateur et peu utile, vu que nos données ne sont pas symmétriques.\n",
    "- la précision est le ratio des observations prédites correctement sur le nombre d'observations prédites (donc plus il est haut, mieux c'est) \n",
    "- le recall est le ration des observations prédites correctement sur le nombre d'observations de la même classe (donc plus il est haut et supérieur à 0.5, mieux c'est)\n",
    "- le F1-score est la moyenne pondérée entre la précision et le recall. C'est la mesure utilisée lorsque les données sont assymétriques comme les nôtres, à la place de l'accuracy (formule : 2*(Recall * Precision) / (Recall + Precision))\n",
    "\n",
    "Le score que nous utiliserons le plus sera calculé par la suite : ce sera le ROC_AUC, à savoir l'aire sous la courbe\n"
   ]
  },
  {
   "cell_type": "code",
   "execution_count": null,
   "metadata": {
    "colab": {},
    "colab_type": "code",
    "id": "C1QMu78briSs"
   },
   "outputs": [],
   "source": [
    "def overall_average_score(actual, prediction):\n",
    "    precision, recall, f1_score, _ = precision_recall_fscore_support(\n",
    "        actual, prediction, average='binary')\n",
    "    acc = accuracy_score(actual, prediction)\n",
    "    total_score = [precision, recall, f1_score, acc]\n",
    "    return total_score\n"
   ]
  },
  {
   "cell_type": "markdown",
   "metadata": {
    "colab_type": "text",
    "id": "WLXgXbSRDn-k"
   },
   "source": [
    "Le premier modèle testé va être le DummyClassifier. Ce modèle est le modèle naïf, selon des règles simples :\n",
    "- 'most_frequent' prédit toujours la valeur la plus fréquente de l'échantillon train (ici 0)\n",
    "- 'stratified' prédit la valeur selon la répartition dans l'échantillon train (donc92% de 0 et 8% de 1)\n",
    "- 'uniform' prédit la valeur uniformément au hasard.\n",
    "\n",
    "Ce modèle nous servira donc uniquement de base de comparaison, car ce modèle sera toujours à un ROC_AUC de 0.5.\n",
    "\n"
   ]
  },
  {
   "cell_type": "code",
   "execution_count": null,
   "metadata": {
    "colab": {
     "base_uri": "https://localhost:8080/",
     "height": 211
    },
    "colab_type": "code",
    "executionInfo": {
     "elapsed": 100128,
     "status": "ok",
     "timestamp": 1592394540813,
     "user": {
      "displayName": "Emeline Duquenne",
      "photoUrl": "",
      "userId": "00866747826026678947"
     },
     "user_tz": -120
    },
    "id": "ZXIw2V1fnALq",
    "outputId": "6d3c8888-52fb-476d-d5fd-2b8731be86c8"
   },
   "outputs": [
    {
     "name": "stdout",
     "output_type": "stream",
     "text": [
      "Meilleur(s) hyperparamètre(s) sur le jeu d'entraînement: {'strategy': 'most_frequent'}\n",
      "[[1. 0.]\n",
      " [1. 0.]\n",
      " [1. 0.]\n",
      " ...\n",
      " [1. 0.]\n",
      " [1. 0.]\n",
      " [1. 0.]]\n"
     ]
    },
    {
     "name": "stderr",
     "output_type": "stream",
     "text": [
      "/usr/local/lib/python3.6/dist-packages/sklearn/metrics/_classification.py:1272: UndefinedMetricWarning: Precision and F-score are ill-defined and being set to 0.0 due to no predicted samples. Use `zero_division` parameter to control this behavior.\n",
      "  _warn_prf(average, modifier, msg_start, len(result))\n"
     ]
    }
   ],
   "source": [
    "start_time = time.time()\n",
    "\n",
    "parameters = {'strategy': ['most_frequent', 'stratified', 'uniform']}\n",
    "\n",
    "dum = DummyClassifier(random_state=0)\n",
    "dumc = GridSearchCV(cv=folds, estimator=dum, param_grid=parameters,\n",
    "                    return_train_score=True)\n",
    "dumc.fit(Xtrain_scaled, Ytrain)\n",
    "dumcpred = dumc.predict(Xtest_scaled)\n",
    "\n",
    "dumctime = time.time()-start_time\n",
    "\n",
    "print (\"Meilleur(s) hyperparamètre(s) sur le jeu d'entraînement:\",\n",
    "       dumc.best_params_)\n",
    "\n",
    "dumcstats = [\"Dummy regressor\", dumctime]\n",
    "dumcscores = overall_average_score(Ytest, dumcpred)\n",
    "\n",
    "for n in dumcscores:\n",
    "    dumcstats.append(n)\n",
    "\n",
    "print(dumc.predict_proba(Xtest))\n"
   ]
  },
  {
   "cell_type": "markdown",
   "metadata": {
    "colab_type": "text",
    "id": "RTMe1BeWFVFi"
   },
   "source": [
    "Le modèle suivant est le kNN classifier qui va calculer les valeurs recherchées en utilisant les k données voisines les plus proches. \n",
    "\n",
    "Il n'existe qu'un unique hyper-paramètre sur lequel nous pouvons jouer pour optimiser notre modèle : le nombre de voisins à sélectionner pour chacune des valeurs à calculer. Nous choisissons une unique valeur ici, comme il s'agit juste d'un test des modèles."
   ]
  },
  {
   "cell_type": "code",
   "execution_count": null,
   "metadata": {
    "colab": {
     "base_uri": "https://localhost:8080/",
     "height": 193
    },
    "colab_type": "code",
    "executionInfo": {
     "elapsed": 391379,
     "status": "ok",
     "timestamp": 1592394832078,
     "user": {
      "displayName": "Emeline Duquenne",
      "photoUrl": "",
      "userId": "00866747826026678947"
     },
     "user_tz": -120
    },
    "id": "oii1yXwlnIn7",
    "outputId": "576ea947-dc8d-4ecd-8540-d2d7e7fcb8b5"
   },
   "outputs": [
    {
     "name": "stderr",
     "output_type": "stream",
     "text": [
      "/usr/local/lib/python3.6/dist-packages/sklearn/metrics/_classification.py:1272: UndefinedMetricWarning: Precision and F-score are ill-defined and being set to 0.0 due to no predicted samples. Use `zero_division` parameter to control this behavior.\n",
      "  _warn_prf(average, modifier, msg_start, len(result))\n"
     ]
    },
    {
     "name": "stdout",
     "output_type": "stream",
     "text": [
      "[[0.9 0.1]\n",
      " [0.9 0.1]\n",
      " [0.9 0.1]\n",
      " ...\n",
      " [0.9 0.1]\n",
      " [0.8 0.2]\n",
      " [0.9 0.1]]\n"
     ]
    }
   ],
   "source": [
    "start_time = time.time()\n",
    "\n",
    "parameters = {'n_neighbors': [5, 10]}\n",
    "\n",
    "knn = KNeighborsClassifier()\n",
    "knnc = GridSearchCV(cv=folds, estimator=knn, param_grid=parameters,\n",
    "                    return_train_score=True)\n",
    "knnc.fit(Xtrain_scaled, Ytrain)\n",
    "knncpred = knnc.predict(Xtest_scaled)\n",
    "\n",
    "knnctime = time.time()-start_time\n",
    "\n",
    "knncstats = [\"kNN Classifier\", knnctime]\n",
    "knncscores = overall_average_score(Ytest, knncpred)\n",
    "\n",
    "for n in knncscores:\n",
    "    knncstats.append(n)\n",
    "\n",
    "print (knnc.predict_proba(Xtest))\n"
   ]
  },
  {
   "cell_type": "markdown",
   "metadata": {
    "colab_type": "text",
    "id": "pdvFBzi6HOQQ"
   },
   "source": [
    "Le modèle suivant est le Logistic Regression, qui est une régression binaire. La seule variable changée ici sera le solveur, à savoir l'algorithme utilisée pour optimiser le résultat. "
   ]
  },
  {
   "cell_type": "code",
   "execution_count": null,
   "metadata": {
    "colab": {
     "base_uri": "https://localhost:8080/",
     "height": 1000
    },
    "colab_type": "code",
    "executionInfo": {
     "elapsed": 420183,
     "status": "ok",
     "timestamp": 1592394860895,
     "user": {
      "displayName": "Emeline Duquenne",
      "photoUrl": "",
      "userId": "00866747826026678947"
     },
     "user_tz": -120
    },
    "id": "Xw7gp2tdQ4LL",
    "outputId": "267f1524-8148-4a72-9528-003e960979c8"
   },
   "outputs": [
    {
     "name": "stderr",
     "output_type": "stream",
     "text": [
      "/usr/local/lib/python3.6/dist-packages/sklearn/linear_model/_logistic.py:940: ConvergenceWarning: lbfgs failed to converge (status=1):\n",
      "STOP: TOTAL NO. of ITERATIONS REACHED LIMIT.\n",
      "\n",
      "Increase the number of iterations (max_iter) or scale the data as shown in:\n",
      "    https://scikit-learn.org/stable/modules/preprocessing.html\n",
      "Please also refer to the documentation for alternative solver options:\n",
      "    https://scikit-learn.org/stable/modules/linear_model.html#logistic-regression\n",
      "  extra_warning_msg=_LOGISTIC_SOLVER_CONVERGENCE_MSG)\n",
      "/usr/local/lib/python3.6/dist-packages/sklearn/linear_model/_logistic.py:940: ConvergenceWarning: lbfgs failed to converge (status=1):\n",
      "STOP: TOTAL NO. of ITERATIONS REACHED LIMIT.\n",
      "\n",
      "Increase the number of iterations (max_iter) or scale the data as shown in:\n",
      "    https://scikit-learn.org/stable/modules/preprocessing.html\n",
      "Please also refer to the documentation for alternative solver options:\n",
      "    https://scikit-learn.org/stable/modules/linear_model.html#logistic-regression\n",
      "  extra_warning_msg=_LOGISTIC_SOLVER_CONVERGENCE_MSG)\n",
      "/usr/local/lib/python3.6/dist-packages/sklearn/linear_model/_logistic.py:940: ConvergenceWarning: lbfgs failed to converge (status=1):\n",
      "STOP: TOTAL NO. of ITERATIONS REACHED LIMIT.\n",
      "\n",
      "Increase the number of iterations (max_iter) or scale the data as shown in:\n",
      "    https://scikit-learn.org/stable/modules/preprocessing.html\n",
      "Please also refer to the documentation for alternative solver options:\n",
      "    https://scikit-learn.org/stable/modules/linear_model.html#logistic-regression\n",
      "  extra_warning_msg=_LOGISTIC_SOLVER_CONVERGENCE_MSG)\n",
      "/usr/local/lib/python3.6/dist-packages/sklearn/linear_model/_logistic.py:940: ConvergenceWarning: lbfgs failed to converge (status=1):\n",
      "STOP: TOTAL NO. of ITERATIONS REACHED LIMIT.\n",
      "\n",
      "Increase the number of iterations (max_iter) or scale the data as shown in:\n",
      "    https://scikit-learn.org/stable/modules/preprocessing.html\n",
      "Please also refer to the documentation for alternative solver options:\n",
      "    https://scikit-learn.org/stable/modules/linear_model.html#logistic-regression\n",
      "  extra_warning_msg=_LOGISTIC_SOLVER_CONVERGENCE_MSG)\n",
      "/usr/local/lib/python3.6/dist-packages/sklearn/linear_model/_logistic.py:940: ConvergenceWarning: lbfgs failed to converge (status=1):\n",
      "STOP: TOTAL NO. of ITERATIONS REACHED LIMIT.\n",
      "\n",
      "Increase the number of iterations (max_iter) or scale the data as shown in:\n",
      "    https://scikit-learn.org/stable/modules/preprocessing.html\n",
      "Please also refer to the documentation for alternative solver options:\n",
      "    https://scikit-learn.org/stable/modules/linear_model.html#logistic-regression\n",
      "  extra_warning_msg=_LOGISTIC_SOLVER_CONVERGENCE_MSG)\n",
      "/usr/local/lib/python3.6/dist-packages/sklearn/linear_model/_logistic.py:940: ConvergenceWarning: lbfgs failed to converge (status=1):\n",
      "STOP: TOTAL NO. of ITERATIONS REACHED LIMIT.\n",
      "\n",
      "Increase the number of iterations (max_iter) or scale the data as shown in:\n",
      "    https://scikit-learn.org/stable/modules/preprocessing.html\n",
      "Please also refer to the documentation for alternative solver options:\n",
      "    https://scikit-learn.org/stable/modules/linear_model.html#logistic-regression\n",
      "  extra_warning_msg=_LOGISTIC_SOLVER_CONVERGENCE_MSG)\n",
      "/usr/local/lib/python3.6/dist-packages/sklearn/linear_model/_logistic.py:940: ConvergenceWarning: lbfgs failed to converge (status=1):\n",
      "STOP: TOTAL NO. of ITERATIONS REACHED LIMIT.\n",
      "\n",
      "Increase the number of iterations (max_iter) or scale the data as shown in:\n",
      "    https://scikit-learn.org/stable/modules/preprocessing.html\n",
      "Please also refer to the documentation for alternative solver options:\n",
      "    https://scikit-learn.org/stable/modules/linear_model.html#logistic-regression\n",
      "  extra_warning_msg=_LOGISTIC_SOLVER_CONVERGENCE_MSG)\n",
      "/usr/local/lib/python3.6/dist-packages/sklearn/linear_model/_logistic.py:940: ConvergenceWarning: lbfgs failed to converge (status=1):\n",
      "STOP: TOTAL NO. of ITERATIONS REACHED LIMIT.\n",
      "\n",
      "Increase the number of iterations (max_iter) or scale the data as shown in:\n",
      "    https://scikit-learn.org/stable/modules/preprocessing.html\n",
      "Please also refer to the documentation for alternative solver options:\n",
      "    https://scikit-learn.org/stable/modules/linear_model.html#logistic-regression\n",
      "  extra_warning_msg=_LOGISTIC_SOLVER_CONVERGENCE_MSG)\n",
      "/usr/local/lib/python3.6/dist-packages/sklearn/linear_model/_logistic.py:940: ConvergenceWarning: lbfgs failed to converge (status=1):\n",
      "STOP: TOTAL NO. of ITERATIONS REACHED LIMIT.\n",
      "\n",
      "Increase the number of iterations (max_iter) or scale the data as shown in:\n",
      "    https://scikit-learn.org/stable/modules/preprocessing.html\n",
      "Please also refer to the documentation for alternative solver options:\n",
      "    https://scikit-learn.org/stable/modules/linear_model.html#logistic-regression\n",
      "  extra_warning_msg=_LOGISTIC_SOLVER_CONVERGENCE_MSG)\n",
      "/usr/local/lib/python3.6/dist-packages/sklearn/linear_model/_logistic.py:940: ConvergenceWarning: lbfgs failed to converge (status=1):\n",
      "STOP: TOTAL NO. of ITERATIONS REACHED LIMIT.\n",
      "\n",
      "Increase the number of iterations (max_iter) or scale the data as shown in:\n",
      "    https://scikit-learn.org/stable/modules/preprocessing.html\n",
      "Please also refer to the documentation for alternative solver options:\n",
      "    https://scikit-learn.org/stable/modules/linear_model.html#logistic-regression\n",
      "  extra_warning_msg=_LOGISTIC_SOLVER_CONVERGENCE_MSG)\n"
     ]
    },
    {
     "name": "stdout",
     "output_type": "stream",
     "text": [
      "[[0. 1.]\n",
      " [0. 1.]\n",
      " [0. 1.]\n",
      " ...\n",
      " [0. 1.]\n",
      " [1. 0.]\n",
      " [0. 1.]]\n"
     ]
    },
    {
     "name": "stderr",
     "output_type": "stream",
     "text": [
      "/usr/local/lib/python3.6/dist-packages/sklearn/linear_model/_logistic.py:940: ConvergenceWarning: lbfgs failed to converge (status=1):\n",
      "STOP: TOTAL NO. of ITERATIONS REACHED LIMIT.\n",
      "\n",
      "Increase the number of iterations (max_iter) or scale the data as shown in:\n",
      "    https://scikit-learn.org/stable/modules/preprocessing.html\n",
      "Please also refer to the documentation for alternative solver options:\n",
      "    https://scikit-learn.org/stable/modules/linear_model.html#logistic-regression\n",
      "  extra_warning_msg=_LOGISTIC_SOLVER_CONVERGENCE_MSG)\n"
     ]
    }
   ],
   "source": [
    "start_time = time.time()\n",
    "\n",
    "parameters = {'solver': ['lbfgs', 'liblinear']}\n",
    "\n",
    "lr = LogisticRegression(random_state=0)\n",
    "lrc = GridSearchCV(cv=folds, estimator=lr, param_grid=parameters,\n",
    "                   return_train_score=True)\n",
    "lrc.fit(Xtrain_scaled, Ytrain)\n",
    "lrcpred = lrc.predict(Xtest_scaled)\n",
    "\n",
    "lrctime = time.time()-start_time\n",
    "\n",
    "lrcstats = [\"Logistic Regression\", lrctime]\n",
    "lrcscores = overall_average_score(Ytest, lrcpred)\n",
    "\n",
    "for n in lrcscores:\n",
    "    lrcstats.append(n)\n",
    "\n",
    "print(lrc.predict_proba(Xtest))\n"
   ]
  },
  {
   "cell_type": "markdown",
   "metadata": {
    "colab_type": "text",
    "id": "mrWZJHv2K1dC"
   },
   "source": [
    "Le modèle suivant est le SVC ou C-Support Vector Classification, correspondant donc à une méthode d'apprentissage supervisé. Les paramètres modifiables sont \n",
    "- \"C\" ou le paramètre d'erreur\n",
    "- \"gamma\" ou le coefficient du kernel. Plus il est haut et plus chaque valeur d'entraînement est forte.\n",
    "- \"probabilty\" mise à True sert ici à la création de notre future courbe ROC.\n",
    "\n",
    "Ici, on fixe les valeurs comme il s'agit d'un test."
   ]
  },
  {
   "cell_type": "code",
   "execution_count": null,
   "metadata": {
    "colab": {
     "base_uri": "https://localhost:8080/",
     "height": 193
    },
    "colab_type": "code",
    "executionInfo": {
     "elapsed": 3129713,
     "status": "ok",
     "timestamp": 1592397570436,
     "user": {
      "displayName": "Emeline Duquenne",
      "photoUrl": "",
      "userId": "00866747826026678947"
     },
     "user_tz": -120
    },
    "id": "OUEPtt12dZEP",
    "outputId": "00cb1de6-5e7f-4126-ed23-1fccdcaffee6"
   },
   "outputs": [
    {
     "name": "stderr",
     "output_type": "stream",
     "text": [
      "/usr/local/lib/python3.6/dist-packages/sklearn/metrics/_classification.py:1272: UndefinedMetricWarning: Precision and F-score are ill-defined and being set to 0.0 due to no predicted samples. Use `zero_division` parameter to control this behavior.\n",
      "  _warn_prf(average, modifier, msg_start, len(result))\n"
     ]
    },
    {
     "name": "stdout",
     "output_type": "stream",
     "text": [
      "[[0.8995789 0.1004211]\n",
      " [0.8995789 0.1004211]\n",
      " [0.8995789 0.1004211]\n",
      " ...\n",
      " [0.8995789 0.1004211]\n",
      " [0.8995789 0.1004211]\n",
      " [0.8995789 0.1004211]]\n"
     ]
    }
   ],
   "source": [
    "start_time = time.time()\n",
    "\n",
    "parameters = {'kernel': ['rbf', 'linear'], 'gamma': ['scale', 0.001],\n",
    "              'C': [1.0, 100.], 'probability': [True]}\n",
    "\n",
    "svclas = svm.SVC(random_state=0)\n",
    "svmc = GridSearchCV(cv=folds, estimator=svclas, param_grid=parameters,\n",
    "                    return_train_score=True)\n",
    "svmc.fit(Xtrain_scaled, Ytrain)\n",
    "svmcpred = svmc.predict(Xtest_scaled)\n",
    "\n",
    "svmctime = time.time()-start_time\n",
    "\n",
    "svmcstats = [\"SVM\", svmctime]\n",
    "svmcscores = overall_average_score(Ytest, svmcpred)\n",
    "\n",
    "for n in svmcscores:\n",
    "    svmcstats.append(n)\n",
    "\n",
    "print(svmc.predict_proba(Xtest))\n"
   ]
  },
  {
   "cell_type": "markdown",
   "metadata": {
    "colab_type": "text",
    "id": "kHyzEsHHOvHl"
   },
   "source": [
    "Nous testons ensuite le MLP Classifier qui utilise un réseau de neurones à propagation avant. Il prend donc les échantillons d'entrée et utilise des couches de neurones pour effectuer les calculs.\n",
    "\n",
    "Pour le MLP, il existe 4 hyper-paramètres sur lesquels nous pouvons jouer pour optimiser notre modèle :\n",
    "\n",
    "- 'hidden_layer_sizes' ou le nombre de couches et le nombre de neurones de chaque couche.\n",
    "-'activation' ou les différents types de fonctions des couches renvoyant différentes fonctions\n",
    "- 'solver' pour l'optimisation des poids\n"
   ]
  },
  {
   "cell_type": "code",
   "execution_count": null,
   "metadata": {
    "colab": {
     "base_uri": "https://localhost:8080/",
     "height": 139
    },
    "colab_type": "code",
    "executionInfo": {
     "elapsed": 3586406,
     "status": "ok",
     "timestamp": 1592398027141,
     "user": {
      "displayName": "Emeline Duquenne",
      "photoUrl": "",
      "userId": "00866747826026678947"
     },
     "user_tz": -120
    },
    "id": "z2pruKabnCkf",
    "outputId": "a86367d3-2040-4300-f245-103894c80f55"
   },
   "outputs": [
    {
     "name": "stdout",
     "output_type": "stream",
     "text": [
      "[[1. 0.]\n",
      " [1. 0.]\n",
      " [1. 0.]\n",
      " ...\n",
      " [1. 0.]\n",
      " [1. 0.]\n",
      " [1. 0.]]\n"
     ]
    }
   ],
   "source": [
    "start_time = time.time()\n",
    "\n",
    "parameters = {'hidden_layer_sizes': [(796,), (796, 796)]}\n",
    "\n",
    "mlp = MLPClassifier(random_state=0)\n",
    "mlpc = GridSearchCV(cv=folds, estimator=mlp, param_grid=parameters,\n",
    "                    return_train_score=True)\n",
    "mlpc.fit(Xtrain_scaled, Ytrain)\n",
    "mlpcpred = mlpc.predict(Xtest_scaled)\n",
    "\n",
    "mlpctime = time.time()-start_time\n",
    "\n",
    "mlpcstats = [\"MLP\", mlpctime]\n",
    "mlpcscores = overall_average_score(Ytest, mlpcpred)\n",
    "\n",
    "for n in mlpcscores:\n",
    "    mlpcstats.append(n)\n",
    "\n",
    "print(mlpc.predict_proba(Xtest))\n"
   ]
  },
  {
   "cell_type": "markdown",
   "metadata": {
    "colab_type": "text",
    "id": "8Vh-6rxHQFaM"
   },
   "source": [
    "Nous testons ensuite la ridge classifier qui permet de restreindre l'amplitude des poids avec un effet de sélection groupée : les variables corrélées auront le même coefficient. Ainsi, les variables corrélées vont se combiner et se renforcer mutuellement.\n"
   ]
  },
  {
   "cell_type": "code",
   "execution_count": null,
   "metadata": {
    "colab": {
     "base_uri": "https://localhost:8080/",
     "height": 1000
    },
    "colab_type": "code",
    "executionInfo": {
     "elapsed": 3587712,
     "status": "ok",
     "timestamp": 1592398028462,
     "user": {
      "displayName": "Emeline Duquenne",
      "photoUrl": "",
      "userId": "00866747826026678947"
     },
     "user_tz": -120
    },
    "id": "vHWhyEUd28p-",
    "outputId": "684167a0-f980-4e67-a6b2-977cf94279ec"
   },
   "outputs": [
    {
     "name": "stdout",
     "output_type": "stream",
     "text": [
      "[ 3.55146949e+08  4.78641131e+07  5.12556588e+07 -2.32610052e+08\n",
      "  5.13635772e+07  1.85330148e+08  1.36468088e+08  1.92590481e+08\n",
      "  1.41858897e+08  1.68611325e+08  1.67107104e+08  6.54299192e+07\n",
      "  2.84948316e+08  3.64740809e+08  6.63341194e+08 -2.84597486e+07\n",
      "  6.50765316e+07  7.68181421e+07  2.11353113e+08  2.43856089e+08\n",
      "  1.41520021e+08 -3.15142742e+08  4.18768618e+07  1.00645143e+08\n",
      "  3.39664981e+08  3.29693674e+07  2.67097362e+08  3.28591120e+08\n",
      "  8.68020593e+07  4.26507676e+07  2.64961519e+06 -2.21589991e+08\n",
      " -1.39483212e+07 -6.91358760e+08  2.35230787e+08  3.85079435e+08\n",
      "  1.22493869e+08  1.43434505e+08  1.88511392e+08  1.39297792e+08\n",
      "  8.17675969e+07  1.32352422e+08  6.23732905e+07  1.18693104e+08\n",
      "  1.19836745e+09  1.03459294e+09  5.05421297e+07  1.89642523e+08\n",
      "  8.66157274e+07  9.89090852e+07  2.28729412e+08  1.96915143e+08\n",
      "  1.95750138e+08  1.12297050e+08  3.26291995e+07 -2.57627902e+08\n",
      "  4.10297405e+08  5.30011872e+07  2.19886519e+08  1.00262206e+08\n",
      "  3.98595218e+08  3.83346236e+08  1.42681404e+08  2.44285477e+08\n",
      "  2.79372187e+08  1.59863750e+08  3.21908411e+08  3.73615469e+08\n",
      "  1.26972067e+08  1.72361943e+08  1.91281053e+08  1.46092066e+08\n",
      "  3.40575649e+08  1.21393029e+08  1.66491155e+08  7.84988661e+08\n",
      " -3.17337014e+08  1.01051348e+08  1.45454191e+08  1.93035026e+08\n",
      "  1.67511219e+08  3.95763719e+07  2.03434383e+08  1.55346993e+08\n",
      "  1.00171947e+09  3.21884963e+08  3.41070775e+08  1.27948067e+08\n",
      "  4.02418452e+08  2.45763766e+08  6.86412173e+07  2.45215141e+08\n",
      " -3.30467151e+07  1.46469206e+08  6.04004646e+06  4.74273177e+08\n",
      "  1.04943730e+07  8.44578433e+07  1.26021809e+08  4.18805138e+08\n",
      "  1.64098096e+09  4.49718388e+07  4.03176201e+08 -3.12445929e+08\n",
      "  2.37823234e+08  1.60124013e+08  4.96200288e+08  5.37345091e+07\n",
      "  1.20995594e+08  5.31740300e+08  1.36169204e+09  1.16867173e+08\n",
      " -3.16509335e+08  2.09790606e+08  1.25123585e+08  1.29612152e+09\n",
      "  1.39741587e+08  1.46717066e+08  4.69141760e+08  9.74163699e+07\n",
      "  1.41166397e+07  2.10284201e+08  2.48018004e+07  1.61766238e+07\n",
      "  8.33666827e+07  1.56312895e+08  1.04818077e+08  7.14805218e+07\n",
      "  2.13869979e+08  1.33218350e+08  1.83753544e+08  3.79994616e+07\n",
      "  4.04046299e+07  1.08623699e+08  2.61050440e+08  2.12687829e+08\n",
      "  1.79463985e+08 -2.06977810e+08  8.49971012e+07  4.63665358e+08\n",
      "  1.72846845e+08  1.41174283e+08  2.75913016e+08  3.33058378e+07\n",
      "  5.81000411e+08  1.88631962e+08  1.86984152e+08  1.40300127e+08\n",
      " -2.23010614e+08  3.51742764e+07 -1.98782475e+08  1.88204928e+08\n",
      "  1.86262448e+08  1.44249832e+08  9.91825699e+07  1.16433653e+08\n",
      "  7.05858250e+07 -2.22778324e+08 -2.54215583e+08  1.97194627e+08\n",
      "  1.79904600e+08  2.25669583e+08  7.79560890e+07  1.74521499e+08\n",
      "  1.11191273e+08  1.22007809e+08 -2.38562317e+08 -3.47792476e+08\n",
      " -2.01387429e+08  1.02670537e+08  1.46202998e+08 -2.40359209e+08\n",
      "  9.35494931e+07  1.94561695e+08 -7.20275131e+08  3.06644934e+08\n",
      "  3.92410702e+08 -2.24639792e+08  5.95976227e+07  4.79323157e+07\n",
      "  1.38587853e+08  1.79460931e+08  1.59887172e+08  3.61088042e+08\n",
      "  1.42473961e+09  1.30334120e+08  1.44431093e+08  6.80925861e+06\n",
      "  2.03557059e+08  5.00036109e+07  6.69667349e+07 -2.45739159e+08\n",
      "  4.97072420e+08  2.60908824e+08  5.51985818e+07  5.03777251e+08\n",
      "  9.67047411e+07  4.18991908e+07  1.95826463e+08  2.56982324e+08\n",
      "  9.61180702e+07  2.43702767e+05  1.67675820e+07  9.17472375e+07\n",
      "  1.02591247e+08  1.11673474e+08  2.80987549e+08  1.82838554e+08\n",
      "  1.06852848e+08  4.59721744e+08  1.37827684e+08  1.24235162e+07\n",
      "  1.52801831e+08 -2.14837276e+09  1.38436119e+08  1.12680219e+08\n",
      "  6.08352105e+07  1.15315581e+08  5.23124664e+07  1.50485187e+08\n",
      " -2.25847002e+08  1.57644076e+08  8.46509232e+07  1.33242937e+08\n",
      "  2.32601733e+07  5.32406267e+08  1.28043575e+08  2.43156311e+08\n",
      "  1.54495008e+08  4.28400536e+08  3.04373495e+08  4.24621777e+07\n",
      "  1.06440520e+08  4.36255736e+06  1.12242926e+08  3.66725485e+08\n",
      "  7.58804790e+07  1.77862576e+08  1.07671568e+08  1.38337403e+08\n",
      "  2.84890553e+08  2.53649858e+08 -1.77546154e+08  7.75066129e+07\n",
      "  2.42128560e+08  1.66423290e+08 -7.12485595e+08  1.18106931e+08\n",
      "  5.61985450e+07  4.39598913e+08  2.77058187e+08  9.17905412e+07\n",
      "  3.93807916e+08  1.76486557e+08  1.54683602e+08  8.78014552e+07\n",
      "  1.71728973e+08  5.54081328e+07  7.89157017e+07  1.93462434e+08\n",
      "  4.40441212e+07  1.98040903e+08  9.60452120e+06  3.57580901e+08\n",
      "  4.06371927e+08 -1.01699375e+08  2.09858922e+08  2.70168355e+08\n",
      "  1.17682997e+08  9.84602036e+07  3.67639925e+08  5.16764376e+07\n",
      "  8.72653234e+07  7.61939997e+08  1.53023235e+09  3.43319520e+07\n",
      "  6.37742026e+08  1.20307388e+08  5.25018338e+07  2.08667402e+08\n",
      "  1.68517022e+08  9.09573606e+07  2.16456730e+08  1.03243068e+08\n",
      "  7.82217362e+07  2.05684668e+08 -2.74108900e+08  4.76604275e+08\n",
      "  5.32698027e+08 -2.55493902e+07 -1.85676184e+08  1.86464759e+08\n",
      "  2.17435518e+07  1.13514111e+08 -2.14806714e+08 -6.88890982e+08\n",
      "  1.41918877e+09  1.05231675e+09  1.50588906e+08  2.85546307e+08\n",
      "  2.46910819e+07  1.34045769e+08  2.69700142e+08  9.79050046e+07\n",
      "  6.94588023e+07  1.27017893e+09  6.85380972e+07  1.24283093e+08\n",
      "  1.30238124e+08  2.64250179e+08  7.18198735e+08 -2.11177958e+08\n",
      " -2.13031960e+08  1.27149328e+08  1.79392960e+08  1.09534413e+08\n",
      "  1.69886960e+08  7.63314913e+07  1.84921739e+08  5.07721280e+08\n",
      "  1.57288901e+08  2.26078580e+07 -1.82240487e+07  2.56042109e+08\n",
      "  1.50816315e+08  1.70783867e+08  3.09581816e+08  1.73378848e+08\n",
      "  3.33769724e+08  8.46616878e+07  3.45528630e+08  7.98630400e+07\n",
      "  3.27722552e+07  1.42151214e+09  3.46356290e+08  8.45327514e+07\n",
      "  4.86562738e+07  1.38121782e+08  2.45456037e+08  1.25672275e+08\n",
      "  2.55403046e+08  1.41993659e+08  3.71366943e+08  5.38777977e+08\n",
      "  1.35338189e+08  5.65436277e+07  1.82335958e+08  1.53738958e+08\n",
      "  1.80548403e+08  2.52648685e+08  7.80828783e+07  4.68707596e+08\n",
      "  1.17461034e+08  3.52152271e+08  8.39104045e+07  2.78904876e+08\n",
      "  5.59909570e+08 -2.14359378e+08  1.04040464e+08  2.78696506e+08\n",
      "  4.95566380e+07  5.28874290e+08 -2.06467319e+08  1.12186070e+08\n",
      "  9.24780496e+07  1.21697180e+08  6.15934434e+07  1.98683617e+08\n",
      "  1.95089507e+08  8.13077120e+08  8.55245846e+07  1.63316025e+08\n",
      "  1.35418914e+08 -2.72415800e+08  1.13069478e+08  1.29081079e+08\n",
      "  4.26117287e+07 -2.10884590e+08  8.59987318e+07  4.49562254e+08\n",
      " -2.14194746e+08  8.47763214e+07  1.84589857e+08  2.38901438e+08\n",
      "  2.95236262e+08  2.57711433e+08  1.13587327e+08  3.22619704e+08\n",
      "  1.57772274e+08  9.69118012e+07  4.14079999e+08  8.64320227e+07\n",
      "  7.72854056e+07  2.51976026e+08 -3.00739258e+07  6.86103865e+07\n",
      "  5.84043767e+07  9.42038643e+07  1.35555816e+08  1.37814829e+08\n",
      "  1.00379647e+08  3.11285213e+08  9.40171170e+07  1.23026199e+07\n",
      " -9.09762543e+05 -2.31239829e+08 -1.66016683e+08  2.65732284e+07\n",
      "  6.03673233e+07  9.02763188e+07  1.03275778e+06  7.37207731e+07\n",
      "  7.30219651e+07  9.42600487e+07  1.36718293e+08  6.78985816e+08\n",
      "  7.50303594e+07  8.62799793e+07  2.26619897e+08 -2.39571763e+08\n",
      "  1.28265736e+08  1.49234114e+08  1.99964785e+08  5.68358229e+08\n",
      " -2.34148157e+08  1.31071035e+08  1.48263080e+08  1.04733747e+08\n",
      " -2.23900301e+08  2.93079642e+08 -1.78621267e+08 -1.98556508e+08\n",
      "  4.00182412e+08  2.60682373e+07 -2.31337532e+08 -1.99441837e+06\n",
      "  1.49206310e+08  1.24913342e+08  8.60498839e+07  1.29233981e+08\n",
      "  2.59441081e+08  1.16435713e+08  1.22019027e+08  3.39730764e+08\n",
      "  1.44766944e+08  9.23718232e+07  3.59057255e+08 -1.23135080e+08\n",
      "  1.24561928e+08  6.77554472e+07 -2.43655047e+08  1.55229713e+08\n",
      "  4.99091224e+08  1.96089366e+08  2.17485420e+08  2.73395219e+08\n",
      "  1.49150500e+08  3.03573135e+07  2.79198437e+08  6.97649102e+07\n",
      " -2.38593911e+08  8.33642489e+07  1.13126212e+08  3.47652373e+08\n",
      "  1.46455885e+08  4.42723828e+08  7.06288235e+06  1.45731179e+07\n",
      "  3.11756952e+07  6.25745397e+08  2.05928270e+08  1.22525113e+09\n",
      "  6.23555070e+07 -1.76925535e+08  7.56604178e+08  3.45498249e+08\n",
      "  1.07503982e+08  1.01185017e+08  3.89247895e+08  2.26666114e+08\n",
      "  9.99341551e+08 -2.84553470e+08  1.97388241e+08  1.85267443e+08\n",
      "  1.14733761e+09  3.86527775e+08  1.76755737e+09  2.42042456e+08\n",
      "  4.55339497e+08  2.68536561e+07  9.42994819e+07  2.93772213e+08\n",
      "  1.95689257e+09 -9.42431151e+07  5.92446652e+07  2.53146811e+08\n",
      "  1.18257638e+08  1.02122604e+08  1.91364496e+08  2.23752368e+08\n",
      "  6.64649936e+08  1.01785012e+08  3.36963751e+07  1.84761034e+08\n",
      "  1.50022061e+08 -6.90735295e+08  6.91648826e+07  1.17708238e+08\n",
      "  1.89140825e+08  6.75402479e+08 -2.26493171e+08  1.56854337e+08\n",
      " -2.40659172e+08  1.99742364e+08  3.05418854e+08  1.85089522e+08\n",
      " -2.29997936e+08  2.10413890e+08  4.84961229e+08  1.47974724e+08\n",
      "  1.37132309e+09  5.23885763e+08  1.33148077e+08  7.76812314e+07\n",
      "  2.25814704e+08  3.79502160e+07  1.10862153e+08  1.50880139e+08\n",
      "  1.39091624e+08  3.01827440e+08  1.22240231e+08  4.35729243e+08\n",
      "  3.79091544e+08  1.58382278e+08  1.88744799e+08  6.25971895e+08\n",
      "  7.21692427e+07  2.60049245e+08  9.88896588e+07  4.55571331e+08\n",
      "  4.14369431e+07 -2.15609373e+08  1.07059228e+08  1.27204528e+08\n",
      "  1.24124367e+07  6.66395791e+07  3.85642104e+08  1.03262252e+08\n",
      "  1.81279588e+08  1.94258052e+08  1.41943567e+08  2.57107190e+08\n",
      "  6.26807197e+07  5.95330325e+07  1.47987490e+08  4.18339112e+08\n",
      "  9.73096419e+07  6.08676566e+07  1.24183576e+09  2.02875714e+08\n",
      "  6.92157384e+07  1.30865981e+09 -2.43281402e+08  5.36263708e+07\n",
      "  4.50574405e+08  5.41988190e+07  1.02981867e+08  3.60233550e+07\n",
      "  1.14434871e+08  2.41228066e+08  3.53469439e+08  5.01202049e+08\n",
      "  3.39297312e+08  6.25590418e+07  2.06143911e+08  1.85376294e+08\n",
      "  1.26681365e+08 -2.12202929e+08  2.52965911e+08  1.29493471e+08\n",
      "  5.88049394e+07  7.77559628e+07  3.78703176e+08  5.71603682e+07\n",
      "  7.60890252e+07  1.61993597e+08 -2.20756738e+08  2.12104018e+08\n",
      "  1.15795489e+08 -5.82371856e+08  9.11433313e+07  3.34443763e+08\n",
      "  2.94774093e+08  2.02751505e+08 -3.72215748e+07  2.18844373e+08\n",
      " -9.10148132e+06  5.66981936e+07 -2.00255974e+08  8.72683723e+08\n",
      "  1.05145745e+08  3.36988019e+08  1.48625966e+07  1.07995116e+08\n",
      "  1.83729905e+08  3.34347804e+07  1.77386733e+08  1.81115252e+08\n",
      "  1.87569428e+08 -7.32450721e+07  2.02261271e+08 -2.03425234e+08\n",
      "  3.19879022e+08  1.01279140e+08  7.22274205e+07  5.46992861e+08\n",
      "  1.11309601e+08  4.10011822e+08 -2.07725242e+08  1.01887544e+08\n",
      "  1.65872225e+08 -2.47867576e+08  2.55788885e+08  6.33758207e+07\n",
      " -6.00318523e+06  1.34174626e+08  1.64542740e+08  2.32423012e+08\n",
      "  2.53113114e+08  7.86008582e+08  9.85532455e+07  5.94934668e+08\n",
      "  5.99655450e+08  2.63512708e+08  8.31283999e+07  1.42326871e+08\n",
      "  1.65443746e+08  1.10486712e+09  8.00686505e+07  1.93910748e+08\n",
      "  2.78025659e+08  6.34207541e+08 -2.01815467e+08  2.85820627e+08\n",
      "  2.45381302e+07  1.11238308e+08 -2.23097878e+08  1.40409938e+08\n",
      "  9.42081555e+07  1.22806294e+08 -2.31729404e+08  4.46042243e+08\n",
      "  7.15258060e+08  1.29993080e+08 -5.22222975e+08  1.46175821e+07\n",
      "  1.57236349e+08  4.13559803e+08  1.38593956e+08  3.58257337e+08\n",
      "  5.41806596e+08  8.28019196e+07  3.05999702e+07  2.39198271e+08\n",
      "  8.88873257e+07  6.49802284e+07  1.61998101e+08  1.53330029e+09\n",
      "  7.25161809e+07  1.91580090e+08  1.53190777e+08  1.77691758e+07\n",
      "  5.23082228e+08  4.38056924e+08  3.38248462e+07  1.55689875e+08\n",
      "  2.35727646e+08  2.52471894e+08  1.17346159e+09  2.61845671e+07\n",
      "  1.43064833e+08  2.96666502e+08  1.07967692e+08  1.20370984e+08\n",
      "  2.85881988e+08  1.36821573e+08  8.09809173e+07  1.51622737e+08\n",
      "  2.15591642e+08  2.38152858e+07 -1.44961141e+09  1.84376559e+08\n",
      "  2.52125152e+08  1.66234993e+07  2.88781475e+08  1.28988194e+08\n",
      "  1.64002595e+08  1.58862554e+08 -1.12114996e+06  1.55706347e+08\n",
      "  1.34725424e+08  4.29174186e+07  3.31984022e+08  2.05164356e+08\n",
      " -2.56406876e+08  1.15130200e+08  1.86207678e+08  1.58617958e+08\n",
      " -2.83550164e+08  6.27103511e+07  8.55897315e+07  6.15253496e+07\n",
      "  1.86743004e+08]\n"
     ]
    }
   ],
   "source": [
    "start_time = time.time()\n",
    "\n",
    "parameters = {}\n",
    "\n",
    "rid = RidgeClassifier(random_state=0)\n",
    "ridc = GridSearchCV(cv=folds, estimator=rid, param_grid=parameters,\n",
    "                    return_train_score=True)\n",
    "ridc.fit(Xtrain_scaled, Ytrain)\n",
    "ridcpred = ridc.predict(Xtest_scaled)\n",
    "\n",
    "ridctime = time.time()-start_time\n",
    "\n",
    "ridcstats = [\"Ridge Classifier\", ridctime]\n",
    "ridcscores = overall_average_score(Ytest, ridcpred)\n",
    "\n",
    "for n in ridcscores:\n",
    "    ridcstats.append(n)\n",
    "\n",
    "print(ridc.decision_function(Xtest))\n"
   ]
  },
  {
   "cell_type": "markdown",
   "metadata": {
    "colab_type": "text",
    "id": "fuefJPVQQKmY"
   },
   "source": [
    "Nous testons enfin le RFClassifier qui combine de multiples arbres de décision pour fusionner leurs prédictions afin d'obtenir une prédiction finale plus stable et précis.\n",
    "\n",
    "Pour le RF, il existe 3 hyper-paramètres sur lesquels nous pouvons jouer pour optimiser notre modèle. Nous jouons cependant ici que sur un seul, à savoir le nombre d'estimateurs, qui est le nombre d'arbres de décision utilisés."
   ]
  },
  {
   "cell_type": "code",
   "execution_count": null,
   "metadata": {
    "colab": {
     "base_uri": "https://localhost:8080/",
     "height": 139
    },
    "colab_type": "code",
    "executionInfo": {
     "elapsed": 3664902,
     "status": "ok",
     "timestamp": 1592398105665,
     "user": {
      "displayName": "Emeline Duquenne",
      "photoUrl": "",
      "userId": "00866747826026678947"
     },
     "user_tz": -120
    },
    "id": "hkgLvuiz3WJG",
    "outputId": "1e1740e9-be6b-4c97-df75-ca0916571f67"
   },
   "outputs": [
    {
     "name": "stdout",
     "output_type": "stream",
     "text": [
      "[[0.43 0.57]\n",
      " [0.44 0.56]\n",
      " [0.44 0.56]\n",
      " ...\n",
      " [0.44 0.56]\n",
      " [0.41 0.59]\n",
      " [0.44 0.56]]\n"
     ]
    }
   ],
   "source": [
    "start_time = time.time()\n",
    "\n",
    "parameters = {'max_depth': [None, 100]}\n",
    "\n",
    "\n",
    "rf = RandomForestClassifier(random_state=0)\n",
    "rfc = GridSearchCV(cv=folds, estimator=rf, param_grid=parameters,\n",
    "                   return_train_score=True)\n",
    "rfc.fit(Xtrain_scaled, Ytrain)\n",
    "rfcpred = rfc.predict(Xtest_scaled)\n",
    "\n",
    "rfctime = time.time()-start_time\n",
    "\n",
    "rfcstats = [\"Random Forest\", rfctime]\n",
    "rfcscores = overall_average_score(Ytest, rfcpred)\n",
    "\n",
    "for n in rfcscores:\n",
    "    rfcstats.append(n)\n",
    "\n",
    "print(rfc.predict_proba(Xtest))\n"
   ]
  },
  {
   "cell_type": "markdown",
   "metadata": {
    "colab_type": "text",
    "id": "_qLkmMENQyb9"
   },
   "source": [
    "Le modèle suivant est le LightGBMClassifier, qui est un modèle basé sur le Gradient Boosting et utilisant des algorithmes basés sur les arbres de décision. "
   ]
  },
  {
   "cell_type": "code",
   "execution_count": null,
   "metadata": {
    "colab": {
     "base_uri": "https://localhost:8080/",
     "height": 139
    },
    "colab_type": "code",
    "executionInfo": {
     "elapsed": 3717217,
     "status": "ok",
     "timestamp": 1592398157991,
     "user": {
      "displayName": "Emeline Duquenne",
      "photoUrl": "",
      "userId": "00866747826026678947"
     },
     "user_tz": -120
    },
    "id": "JOkcR2m3HxTu",
    "outputId": "358a7c6b-c0fc-4143-f88d-9a33283c7a21"
   },
   "outputs": [
    {
     "name": "stdout",
     "output_type": "stream",
     "text": [
      "[[9.99414120e-01 5.85879664e-04]\n",
      " [9.99702765e-01 2.97235108e-04]\n",
      " [9.98378718e-01 1.62128178e-03]\n",
      " ...\n",
      " [9.97368725e-01 2.63127522e-03]\n",
      " [9.99387295e-01 6.12704854e-04]\n",
      " [9.99532616e-01 4.67384457e-04]]\n"
     ]
    }
   ],
   "source": [
    "start_time = time.time()\n",
    "\n",
    "parameters = {}\n",
    "\n",
    "lightgbm = lgbm.LGBMClassifier(random_state=0)\n",
    "\n",
    "lgbmc = GridSearchCV(cv=folds, estimator=lightgbm, param_grid=parameters,\n",
    "                     return_train_score=True)\n",
    "lgbmc.fit(Xtrain_scaled, Ytrain)\n",
    "lgbmcpred = lgbmc.predict(Xtest_scaled)\n",
    "\n",
    "lgbmctime = time.time()-start_time\n",
    "\n",
    "lgbmcstats = [\"LightGBM Classifier\", lgbmctime]\n",
    "lgbmcscores = overall_average_score(Ytest, lgbmcpred)\n",
    "\n",
    "for n in lgbmcscores:\n",
    "    lgbmcstats.append(n)\n",
    "\n",
    "print(lgbmc.predict_proba(Xtest))\n"
   ]
  },
  {
   "cell_type": "markdown",
   "metadata": {
    "colab_type": "text",
    "id": "95rjw614QzP0"
   },
   "source": [
    "Enfin, le dernier modèle est le GaussianProcessClassifier. Un processus gaussien est un ensemble de variables aléatoires où chaque ensemble de variables suit une distribution normale multivariée (chaque combinaison linéaire finie est normalement distribuée). Sachant que nos résultats ne sont pas répartis de manière normale, il serait cependant étonnant que ce modèle soit efficace."
   ]
  },
  {
   "cell_type": "code",
   "execution_count": null,
   "metadata": {
    "colab": {
     "base_uri": "https://localhost:8080/",
     "height": 139
    },
    "colab_type": "code",
    "executionInfo": {
     "elapsed": 4130956,
     "status": "ok",
     "timestamp": 1592398571742,
     "user": {
      "displayName": "Emeline Duquenne",
      "photoUrl": "",
      "userId": "00866747826026678947"
     },
     "user_tz": -120
    },
    "id": "yoMJDuAgIf01",
    "outputId": "3c6d59a7-3205-47e6-9d75-71d6471c21a4"
   },
   "outputs": [
    {
     "name": "stdout",
     "output_type": "stream",
     "text": [
      "[[0.5 0.5]\n",
      " [0.5 0.5]\n",
      " [0.5 0.5]\n",
      " ...\n",
      " [0.5 0.5]\n",
      " [0.5 0.5]\n",
      " [0.5 0.5]]\n"
     ]
    }
   ],
   "source": [
    "start_time = time.time()\n",
    "\n",
    "parameters = {}\n",
    "\n",
    "gp = GaussianProcessClassifier(random_state=0)\n",
    "\n",
    "gpc = GridSearchCV(cv=folds, estimator=gp, param_grid=parameters,\n",
    "                   return_train_score=True)\n",
    "gpc.fit(Xtrain_scaled, Ytrain)\n",
    "gpcpred = gpc.predict(Xtest_scaled)\n",
    "\n",
    "gpctime = time.time()-start_time\n",
    "\n",
    "gpcstats = [\"Gaussian Process\", gpctime]\n",
    "gpcscores = overall_average_score(Ytest, gpcpred)\n",
    "\n",
    "for n in gpcscores:\n",
    "    gpcstats.append(n)\n",
    "\n",
    "print(gpc.predict_proba(Xtest))\n"
   ]
  },
  {
   "cell_type": "markdown",
   "metadata": {
    "colab_type": "text",
    "id": "TScCv4aLUw1j"
   },
   "source": [
    "Maintenant que nous avons calculé tous les modèles que nous voulions tester, nous pouvons tracer leurs courbes ROC, et calculer leur score AUC. Visuellement et selon le score AUC, nous pouvons donc dire que c'est le modèle Random Forest qui semble donner les meilleurs résultats, c'est donc celui que nous allons optimiser. Il a en effet un AUC score de 0.64, mais une accuracy de 0.92, ce qui est donc largement améliorable (0.92 étant le minimum à obtenir vu notre répartition des scores)\n"
   ]
  },
  {
   "cell_type": "code",
   "execution_count": null,
   "metadata": {
    "colab": {
     "base_uri": "https://localhost:8080/",
     "height": 355
    },
    "colab_type": "code",
    "executionInfo": {
     "elapsed": 4137538,
     "status": "ok",
     "timestamp": 1592398578334,
     "user": {
      "displayName": "Emeline Duquenne",
      "photoUrl": "",
      "userId": "00866747826026678947"
     },
     "user_tz": -120
    },
    "id": "kfG5E_2cG1nD",
    "outputId": "3669d64a-735d-4257-9d3e-446391b11170"
   },
   "outputs": [
    {
     "data": {
      "image/png": "[encoded data removed]",
      "text/plain": [
       "<Figure size 720x360 with 1 Axes>"
      ]
     },
     "metadata": {
      "tags": []
     },
     "output_type": "display_data"
    }
   ],
   "source": [
    "sns.set()\n",
    "fig1, ax1 = plt.subplots(figsize=(10, 5))\n",
    "faux_positifs_dum, vrais_positifs_dum, seuil_dum = roc_curve(\n",
    "    Ytest, dumc.predict_proba(Xtest)[:, 1])\n",
    "plt.plot(faux_positifs_dum, vrais_positifs_dum, label=\"Dummy Classifier\")\n",
    "dumcstats.append(auc(faux_positifs_dum, vrais_positifs_dum))\n",
    "faux_positifs_knn, vrais_positifs_knn, seuil_knn = roc_curve(\n",
    "    Ytest, knnc.predict_proba(Xtest)[:, 1])\n",
    "plt.plot(faux_positifs_knn, vrais_positifs_knn, label=\"kNN Classifier\")\n",
    "knncstats.append(auc(faux_positifs_knn, vrais_positifs_knn))\n",
    "faux_positifs_lr, vrais_positifs_lr, seuil_lr = roc_curve(\n",
    "    Ytest, lrc.predict_proba(Xtest)[:, 1])\n",
    "plt.plot(faux_positifs_lr, vrais_positifs_lr, label=\"Logistic Regression\")\n",
    "lrcstats.append(auc(faux_positifs_lr, vrais_positifs_lr))\n",
    "faux_positifs_svm, vrais_positifs_svm, seuil_svm = roc_curve(\n",
    "    Ytest, svmc.predict_proba(Xtest)[:, 1])\n",
    "plt.plot(faux_positifs_svm, vrais_positifs_svm, label=\"SVM\")\n",
    "svmcstats.append(auc(faux_positifs_svm, vrais_positifs_svm))\n",
    "faux_positifs_mlp, vrais_positifs_mlp, seuil_mlp = roc_curve(\n",
    "    Ytest, mlpc.predict_proba(Xtest)[:, 1])\n",
    "plt.plot(faux_positifs_mlp, vrais_positifs_mlp, label=\"MLP\")\n",
    "mlpcstats.append(auc(faux_positifs_mlp, vrais_positifs_mlp))\n",
    "faux_positifs_rid, vrais_positifs_rid, seuil_rid = roc_curve(\n",
    "    Ytest, ridc.decision_function(Xtest))\n",
    "plt.plot(faux_positifs_rid, vrais_positifs_rid, label=\"Ridge Classifier\")\n",
    "ridcstats.append(auc(faux_positifs_rid, vrais_positifs_rid))\n",
    "faux_positifs_rf, vrais_positifs_rf, seuil_rf = roc_curve(\n",
    "    Ytest, rfc.predict_proba(Xtest)[:, 1])\n",
    "plt.plot(faux_positifs_rf, vrais_positifs_rf, label=\"Random Forest\")\n",
    "rfcstats.append(auc(faux_positifs_rf, vrais_positifs_rf))\n",
    "faux_positifs_lgbm, vrais_positifs_lgbm, seuil_lgbm = roc_curve(\n",
    "    Ytest, lgbmc.predict_proba(Xtest)[:, 1])\n",
    "plt.plot(faux_positifs_lgbm, vrais_positifs_lgbm, label=\"LightGBM\")\n",
    "lgbmcstats.append(auc(faux_positifs_lgbm, vrais_positifs_lgbm))\n",
    "faux_positifs_gp, vrais_positifs_gp, seuil_gp = roc_curve(\n",
    "    Ytest, gpc.predict_proba(Xtest)[:, 1])\n",
    "plt.plot(faux_positifs_gp, vrais_positifs_gp, label=\"Gaussian Process\")\n",
    "gpcstats.append(auc(faux_positifs_gp, vrais_positifs_gp))\n",
    "plt.title(\"Test\")\n",
    "plt.xlabel(\"Faux positifs\")\n",
    "plt.ylabel(\"Vrais positifs\")\n",
    "plt.legend()\n",
    "plt.show()\n"
   ]
  },
  {
   "cell_type": "code",
   "execution_count": null,
   "metadata": {
    "colab": {
     "base_uri": "https://localhost:8080/",
     "height": 208
    },
    "colab_type": "code",
    "executionInfo": {
     "elapsed": 4137528,
     "status": "ok",
     "timestamp": 1592398578336,
     "user": {
      "displayName": "Emeline Duquenne",
      "photoUrl": "",
      "userId": "00866747826026678947"
     },
     "user_tz": -120
    },
    "id": "YERGf1dP2CqE",
    "outputId": "fc63a0a3-59ea-4d0c-999b-160322ba4edd"
   },
   "outputs": [
    {
     "name": "stdout",
     "output_type": "stream",
     "text": [
      "Algorithme             Temps d'exécution    Précision     Recall    F1 Score    Accuracy       AUC\n",
      "-------------------  -------------------  -----------  ---------  ----------  ----------  --------\n",
      "Dummy regressor                 0.544585    0          0           0            0.924264  0.5\n",
      "kNN Classifier                288.789       0          0           0            0.924264  0.543823\n",
      "Logistic Regression            29.0942      0.152542   0.166667    0.159292     0.86676   0.540648\n",
      "SVM                          2707.99        0          0           0            0.924264  0.5\n",
      "MLP                           456.79        0.333333   0.0740741   0.121212     0.918654  0.5\n",
      "Ridge Classifier                1.26636     0.0869565  0.037037    0.0519481    0.897616  0.580762\n",
      "Random Forest                  77.2188      1          0.0925926   0.169492     0.931276  0.560206\n",
      "LightGBM Classifier            52.0465      1          0.351852    0.520548     0.950912  0.69606\n",
      "Gaussian Process              411.985       0.0930233  0.0740741   0.0824742    0.875175  0.5\n"
     ]
    }
   ],
   "source": [
    "scores = []\n",
    "scores.append(dumcstats)\n",
    "scores.append(knncstats)\n",
    "scores.append(lrcstats)\n",
    "scores.append(svmcstats)\n",
    "scores.append(mlpcstats)\n",
    "scores.append(ridcstats)\n",
    "scores.append(rfcstats)\n",
    "scores.append(lgbmcstats)\n",
    "scores.append(gpcstats)\n",
    "\n",
    "print(tabulate(scores, headers=['Algorithme', 'Temps d\\'exécution',\n",
    "                                'Précision', 'Recall', 'F1 Score', 'Accuracy',\n",
    "                                'AUC']))\n"
   ]
  },
  {
   "cell_type": "markdown",
   "metadata": {
    "colab_type": "text",
    "id": "YDuzhVFbafc3"
   },
   "source": [
    "# Optimisation du modèle de LightGBM Classifier"
   ]
  },
  {
   "cell_type": "markdown",
   "metadata": {
    "colab_type": "text",
    "id": "9AQsbA9UdrHl"
   },
   "source": [
    "Pour optimiser les hyperparamètres du modèle LightGBM Classifier, nous utilisons une librairie nommée hyperopt. En effet, c'est une méthode qui combine l'efficacité de GridSearchCV avec la rapidité de RandomSearchCV. Il va ainsi définir les meilleurs hyperparamètres pour optimiser l'AUC (minimiser 1-AUC) en utilisation une optimisation bayésienne.\n",
    "\n",
    "Ici, les hyper-paramètres sur lesquels nous allons travailler sont :\n",
    "- max_depth est la profondeur de l'arbre\n",
    "- n_estimators est le nombre d'arbres utilisés. On le laisse fixe et par défaut ici, car une augmentation de ce nombre n'augmente finalement que le temps, l'augmentation du score se fera enaugmentation ce nombre mais de manière artificielle.\n",
    "\n",
    "Une fois les meilleurs hyper-paramètres trouvés (donc que le score AUC est optimal), nous réappliquons le modèle avec ceux-ci et indiquons le nouveau AUC score. Ici, il est finalement de 0.86, avec une répartition correcte des plis. "
   ]
  },
  {
   "cell_type": "code",
   "execution_count": 11,
   "metadata": {
    "colab": {
     "base_uri": "https://localhost:8080/",
     "height": 745
    },
    "colab_type": "code",
    "executionInfo": {
     "elapsed": 640505,
     "status": "ok",
     "timestamp": 1592528723328,
     "user": {
      "displayName": "Emeline Duquenne",
      "photoUrl": "",
      "userId": "00866747826026678947"
     },
     "user_tz": -120
    },
    "id": "X-7fb5rypZfB",
    "outputId": "d86d30fe-4d06-45e3-f4a4-f2110d6946be"
   },
   "outputs": [
    {
     "name": "stdout",
     "output_type": "stream",
     "text": [
      "100%|██████████| 10/10 [03:03<00:00, 18.31s/it, best loss: 0.132319665969856]\n",
      "{'max_depth': 65, 'n_estimators': 100}\n",
      "[0.79960317 0.91684704 0.96049784 0.85191198 0.76944348 0.86000691\n",
      " 0.86743865 0.92620118 0.85793294 0.86692015]\n",
      "[0. 0. 0. 0. 0. 0. 0. 0. 0. 0. 0. 0. 0. 0. 0. 0. 0. 0. 0. 0. 0. 0. 0. 0.\n",
      " 0. 0. 0. 0. 0. 0. 0. 0. 1. 0. 0. 0. 0. 0. 0. 0. 0. 0. 0. 0. 0. 0. 0. 0.\n",
      " 0. 0. 0. 0. 0. 0. 0. 0. 0. 0. 0. 0. 0. 0. 0. 0. 0. 0. 0. 0. 0. 0. 0. 0.\n",
      " 0. 0. 0. 0. 0. 0. 0. 0. 0. 1. 0. 0. 0. 0. 0. 0. 0. 0. 0. 0. 0. 0. 0. 0.\n",
      " 0. 0. 0. 0. 0. 0. 0. 0. 0. 0. 0. 0. 0. 0. 0. 0. 0. 0. 0. 0. 0. 0. 0. 0.\n",
      " 0. 0. 0. 0. 0. 0. 0. 0. 0. 0. 0. 0. 0. 0. 0. 0. 0. 0. 0. 0. 0. 0. 0. 0.\n",
      " 0. 0. 0. 0. 0. 0. 0. 0. 0. 1. 0. 0. 0. 0. 0. 0. 0. 0. 0. 1. 0. 0. 0. 0.\n",
      " 0. 0. 1. 0. 0. 0. 0. 0. 0. 0. 0. 0. 1. 0. 0. 0. 0. 0. 0. 0. 0. 0. 0. 0.\n",
      " 0. 0. 0. 0. 0. 0. 0. 0. 0. 0. 0. 0. 0. 0. 0. 0. 0. 0. 0. 0. 0. 0. 0. 0.\n",
      " 0. 0. 0. 0. 0. 1. 0. 0. 0. 0. 0. 0. 0. 0. 0. 0. 0. 0. 0. 0. 0. 0. 0. 0.\n",
      " 0. 0. 0. 0. 0. 0. 0. 0. 0. 0. 0. 0. 0. 0. 0. 0. 0. 0. 0. 1. 0. 1. 0. 0.\n",
      " 0. 0. 1. 0. 0. 0. 0. 0. 0. 0. 0. 0. 0. 0. 0. 0. 0. 0. 0. 0. 0. 0. 0. 0.\n",
      " 0. 0. 0. 0. 0. 0. 0. 0. 0. 0. 0. 0. 0. 0. 0. 0. 1. 0. 0. 0. 0. 0. 0. 0.\n",
      " 0. 0. 0. 0. 0. 0. 0. 0. 0. 0. 0. 0. 0. 0. 0. 0. 0. 0. 0. 0. 0. 0. 0. 0.\n",
      " 0. 0. 0. 0. 0. 0. 0. 0. 0. 0. 0. 0. 0. 0. 0. 0. 0. 0. 0. 0. 0. 0. 0. 0.\n",
      " 0. 0. 0. 0. 0. 0. 0. 0. 0. 0. 0. 0. 0. 0. 0. 0. 0. 0. 0. 0. 0. 0. 0. 0.\n",
      " 0. 0. 0. 0. 0. 0. 0. 0. 0. 0. 0. 0. 0. 0. 0. 0. 1. 0. 0. 0. 0. 0. 0. 0.\n",
      " 0. 0. 0. 0. 0. 0. 0. 0. 0. 0. 0. 0. 0. 0. 1. 0. 0. 0. 0. 0. 0. 0. 0. 0.\n",
      " 0. 0. 0. 0. 0. 0. 0. 0. 0. 0. 0. 0. 0. 0. 0. 0. 0. 0. 0. 0. 0. 0. 0. 0.\n",
      " 0. 0. 0. 0. 0. 0. 0. 0. 0. 0. 0. 0. 0. 0. 0. 0. 0. 0. 0. 0. 0. 0. 0. 0.\n",
      " 0. 0. 0. 0. 0. 0. 0. 0. 0. 0. 0. 0. 0. 0. 0. 0. 0. 0. 0. 0. 0. 0. 0. 0.\n",
      " 0. 0. 0. 0. 0. 0. 0. 0. 0. 0. 0. 0. 0. 0. 0. 0. 0. 0. 0. 0. 0. 0. 0. 0.\n",
      " 0. 0. 0. 0. 0. 0. 0. 0. 0. 0. 0. 0. 0. 0. 0. 0. 0. 0. 0. 0. 0. 0. 0. 0.\n",
      " 0. 0. 1. 0. 0. 0. 0. 0. 0. 0. 0. 0. 0. 0. 0. 0. 0. 0. 0. 0. 0. 0. 0. 0.\n",
      " 0. 0. 0. 0. 0. 0. 0. 0. 0. 0. 0. 0. 0. 0. 0. 0. 0. 1. 0. 0. 0. 0. 0. 0.\n",
      " 0. 0. 0. 0. 0. 0. 0. 0. 0. 0. 0. 0. 0. 0. 0. 0. 0. 0. 0. 0. 0. 0. 1. 0.\n",
      " 0. 0. 0. 0. 0. 0. 0. 0. 0. 0. 0. 0. 0. 0. 0. 0. 0. 0. 0. 0. 0. 0. 0. 0.\n",
      " 0. 0. 0. 0. 0. 0. 0. 1. 0. 0. 0. 0. 0. 0. 0. 0. 0. 0. 0. 0. 0. 0. 0. 0.\n",
      " 0. 0. 0. 0. 0. 0. 0. 0. 0. 0. 0. 0. 0. 0. 0. 1. 0. 0. 0. 0. 0. 0. 0. 0.\n",
      " 0. 0. 0. 0. 0. 0. 0. 1. 0. 0. 0. 0. 0. 0. 0. 0. 0.]\n",
      "[[9.71139273e-01 2.88607269e-02]\n",
      " [9.99900107e-01 9.98929743e-05]\n",
      " [9.98259787e-01 1.74021258e-03]\n",
      " ...\n",
      " [9.99609592e-01 3.90408358e-04]\n",
      " [9.99908172e-01 9.18282476e-05]\n",
      " [9.99602739e-01 3.97260899e-04]]\n"
     ]
    }
   ],
   "source": [
    "def objective(params):\n",
    "    rf.set_params(**params)\n",
    "    shuffle = folds\n",
    "    score = cross_val_score(rf, Xtrain_scaled, Ytrain, cv=shuffle,\n",
    "                            scoring='roc_auc', n_jobs=1)\n",
    "    return 1-score.mean()\n",
    "\n",
    "rf = LGBMClassifier(random_state=0)\n",
    "hyper_space = {\n",
    "    'max_depth': hp.choice('max_depth', range(1, 100)),\n",
    "    'n_estimators': 100}\n",
    "\n",
    "\n",
    "# The Trials object will store details of each iteration\n",
    "trials = Trials()\n",
    "\n",
    "# Run the hyperparameter search using the tpe algorithm\n",
    "best = fmin(objective,\n",
    "            hyper_space,\n",
    "            algo=tpe.suggest,\n",
    "            max_evals=10,\n",
    "            trials=trials)\n",
    "\n",
    "# Get the values of the optimal parameters\n",
    "best_params = space_eval(hyper_space, best)\n",
    "print (best_params)\n",
    "\n",
    "# Fit the model with the optimal hyperparamters\n",
    "rf.set_params(**best_params)\n",
    "\n",
    "\n",
    "score = cross_val_score(rf, Xtrain_scaled, Ytrain, cv=folds,\n",
    "                        scoring='roc_auc', n_jobs=1)\n",
    "print (score)\n",
    "\n",
    "rf.fit(Xtrain_scaled, Ytrain)\n",
    "\n",
    "# Score with the test data\n",
    "\n",
    "pred = rf.predict(Xtest_scaled)\n",
    "y_score = rf.predict_proba(Xtest_scaled)\n",
    "print (pred)\n",
    "print (y_score)\n",
    "\n",
    "faux_positifs, vrais_positifs, seuils = roc_curve(Ytest, y_score[:, 1])\n",
    "roc_auc = auc(faux_positifs, vrais_positifs)\n"
   ]
  },
  {
   "cell_type": "markdown",
   "metadata": {
    "colab_type": "text",
    "id": "en9-dt3ahnDw"
   },
   "source": [
    "Le prochain élément à améliorer est le seuil pour lequel le score s'arrondit : à partir de ce seuil, le score passe à 1, et reste à 0 en-dessous.\n",
    "\n",
    "Pour cela, nous effectuons ce protocole :\n",
    "- nous utilisons tout d'abord un graphique avec 3 courbes. La courbe bleue est la courbe ROC de notre modèle, la courbe noire est la courbe avec un AUC = 0.5, et la courbe rouge est l'évolution du seuil. Lorsque les courbes rouge et bleue se rencontrent, cela indique le seuil idéal selon le score AUC,afin d'avoir uen première indication.\n",
    "- Nous faisons ensuite une boucle sur des seuils encadrant l'idéal visible dans le graphique, afin de définir la bonne valeur. Dans cette boucle, nous appliquons le seuil sur les scores, calculons la matrice de confusion et indiquons le F1 score. Ainis, nous aurons le seuil optimal en fonction du F1 score.\n",
    "\n",
    "Cependant, si le F1 score doit être haut, il ne faut pas non plus oublier que nos données ont des poids différents. En effet, les mauvais clients (1 dans la matrice de confusion) indiqués comme bons (0 dans la matrice de confusion) vont faire perdre de l'argent à la banque, alors que l'inverse provoquerait juste un manque à gagner. On ajoute donc un rapport de poids : les mauvais clients mis en bons sont pondérés 10 fois plus que les bonnes prédictions de bons clients, afin de connaître le gain de l'entreprise. \n",
    "\n",
    "Il nous faut donc au final à la fois un bon F1 score, mais aussi le meilleur gain possible pour l'entreprise, ce qui correspond à un seuil de 0.17. Le F1 score y est de 0.94 et le gain est de 447."
   ]
  },
  {
   "cell_type": "code",
   "execution_count": 12,
   "metadata": {
    "colab": {
     "base_uri": "https://localhost:8080/",
     "height": 904
    },
    "colab_type": "code",
    "executionInfo": {
     "elapsed": 1606,
     "status": "ok",
     "timestamp": 1592528724983,
     "user": {
      "displayName": "Emeline Duquenne",
      "photoUrl": "",
      "userId": "00866747826026678947"
     },
     "user_tz": -120
    },
    "id": "hq-0ixaEPd4e",
    "outputId": "e8c28bb3-31df-46c1-e9c1-d830e02b0eb9"
   },
   "outputs": [
    {
     "name": "stdout",
     "output_type": "stream",
     "text": [
      "ROC_AUC :  0.869049626257517\n",
      "Seuils : [1.99866848e+00 9.98668479e-01 5.03116637e-01 4.92754042e-01\n",
      " 2.18417105e-01 2.07731040e-01 1.19100512e-01 3.74313029e-02\n",
      " 3.68827815e-02 3.52246944e-02 3.01463108e-02 2.77231143e-02\n",
      " 2.60877786e-02 2.48360485e-02 2.46460877e-02 1.82869362e-02\n",
      " 1.69262158e-02 1.62115330e-02 1.58262687e-02 1.44850941e-02\n",
      " 1.36116055e-02 5.27387476e-03 5.11218769e-03 4.75546544e-03\n",
      " 4.71086037e-03 4.53599790e-03 4.46244195e-03 4.25094830e-03\n",
      " 4.05056055e-03 3.65463650e-03 3.61111631e-03 2.30133869e-03\n",
      " 2.26201073e-03 2.01288323e-03 1.96371424e-03 1.95341805e-03\n",
      " 1.92836689e-03 1.91714847e-03 1.90739280e-03 1.76257494e-03\n",
      " 1.75769979e-03 1.49360316e-03 1.48127772e-03 8.11728863e-04\n",
      " 7.85235742e-04 7.18893317e-04 7.16495460e-04 7.11570252e-04\n",
      " 6.97681009e-04 6.62535914e-04 6.55134619e-04 6.44804296e-04\n",
      " 6.40647748e-04 5.36091014e-04 5.34453183e-04 4.44059356e-04\n",
      " 4.36458017e-04 3.33889179e-04 3.31286971e-04 2.00689240e-04\n",
      " 1.97058280e-04 1.42715519e-04 1.40815117e-04 8.11303074e-05\n",
      " 7.88945152e-05 1.06898884e-05]\n"
     ]
    },
    {
     "data": {
      "image/png": "[encoded data removed]",
      "text/plain": [
       "<Figure size 432x288 with 2 Axes>"
      ]
     },
     "metadata": {},
     "output_type": "display_data"
    },
    {
     "data": {
      "image/png": "[encoded data removed]",
      "text/plain": [
       "<Figure size 432x288 with 2 Axes>"
      ]
     },
     "metadata": {},
     "output_type": "display_data"
    }
   ],
   "source": [
    "print ('ROC_AUC : ', roc_auc)\n",
    "print ('Seuils :', seuils)\n",
    "sns.set()\n",
    "plt.figure()\n",
    "plt.plot(faux_positifs, vrais_positifs,\n",
    "         label='ROC curve (area = %0.2f)' % (roc_auc))\n",
    "plt.plot([0, 1], [0, 1], 'k--')\n",
    "plt.xlim([0.0, 1.0])\n",
    "plt.ylim([0.0, 1.05])\n",
    "plt.xlabel('False Positive Rate')\n",
    "plt.ylabel('True Positive Rate')\n",
    "plt.title('Receiver operating characteristic')\n",
    "plt.legend(loc=\"lower right\")\n",
    "\n",
    "# create the axis of thresholds (scores)\n",
    "ax2 = plt.gca().twinx()\n",
    "ax2.plot(faux_positifs, seuils, markeredgecolor='r',\n",
    "         linestyle='dashed', color='r')\n",
    "ax2.set_ylabel('Threshold', color='r')\n",
    "ax2.set_ylim([seuils[-1], seuils[0]])\n",
    "ax2.set_xlim([faux_positifs[0], faux_positifs[-1]])\n",
    "\n",
    "plt.show()\n",
    "\n",
    "\n",
    "sns.set()\n",
    "plt.figure()\n",
    "plt.plot(faux_positifs, vrais_positifs,\n",
    "         label='ROC curve (area = %0.2f)' % (roc_auc))\n",
    "plt.plot([0, 1], [0, 1], 'k--')\n",
    "plt.xlim([0.0, 0.02])\n",
    "plt.ylim([0.2, 0.4])\n",
    "plt.xlabel('False Positive Rate')\n",
    "plt.ylabel('True Positive Rate')\n",
    "plt.title('Receiver operating characteristic')\n",
    "plt.legend(loc=\"lower right\")\n",
    "\n",
    "# create the axis of thresholds (scores)\n",
    "ax2 = plt.gca().twinx()\n",
    "ax2.plot(faux_positifs, seuils, markeredgecolor='r',\n",
    "         linestyle='dashed', color='r')\n",
    "ax2.set_ylabel('Threshold', color='r')\n",
    "ax2.set_ylim([0.0, 0.4])\n",
    "ax2.set_xlim([faux_positifs[0], 0.02])\n",
    "plt.show()\n"
   ]
  },
  {
   "cell_type": "code",
   "execution_count": 13,
   "metadata": {
    "colab": {
     "base_uri": "https://localhost:8080/",
     "height": 1000
    },
    "colab_type": "code",
    "executionInfo": {
     "elapsed": 1782,
     "status": "ok",
     "timestamp": 1592528725196,
     "user": {
      "displayName": "Emeline Duquenne",
      "photoUrl": "",
      "userId": "00866747826026678947"
     },
     "user_tz": -120
    },
    "id": "69KhekOM_ksR",
    "outputId": "a8ff3de0-a6ef-4596-c36e-5403f7821d21"
   },
   "outputs": [
    {
     "name": "stdout",
     "output_type": "stream",
     "text": [
      "\n",
      "Threshold :  0.0\n",
      "     pred_neg  pred_pos\n",
      "neg         0       659\n",
      "pos         0        54\n",
      "F1 score : 0.010664306573213793\n",
      "Gain : -540\n",
      "\n",
      "Threshold :  0.1\n",
      "     pred_neg  pred_pos\n",
      "neg       656         3\n",
      "pos        30        24\n",
      "F1 score : 0.946467358717811\n",
      "Gain : 416\n",
      "\n",
      "Threshold :  0.2\n",
      "     pred_neg  pred_pos\n",
      "neg       657         2\n",
      "pos        33        21\n",
      "F1 score : 0.9415942429103705\n",
      "Gain : 447\n",
      "\n",
      "Threshold :  0.30000000000000004\n",
      "     pred_neg  pred_pos\n",
      "neg       658         1\n",
      "pos        34        20\n",
      "F1 score : 0.940711726703922\n",
      "Gain : 458\n",
      "\n",
      "Threshold :  0.4\n",
      "     pred_neg  pred_pos\n",
      "neg       658         1\n",
      "pos        35        19\n",
      "F1 score : 0.9385447299461755\n",
      "Gain : 468\n",
      "\n",
      "Threshold :  0.5\n",
      "     pred_neg  pred_pos\n",
      "neg       659         0\n",
      "pos        35        19\n",
      "F1 score : 0.9397788032957801\n",
      "Gain : 469\n",
      "\n",
      "Threshold :  0.6000000000000001\n",
      "     pred_neg  pred_pos\n",
      "neg       659         0\n",
      "pos        38        16\n",
      "F1 score : 0.9329848003692782\n",
      "Gain : 499\n",
      "\n",
      "Threshold :  0.7000000000000001\n",
      "     pred_neg  pred_pos\n",
      "neg       659         0\n",
      "pos        39        15\n",
      "F1 score : 0.9306292963295613\n",
      "Gain : 509\n",
      "\n",
      "Threshold :  0.8\n",
      "     pred_neg  pred_pos\n",
      "neg       659         0\n",
      "pos        41        13\n",
      "F1 score : 0.9257695558813988\n",
      "Gain : 529\n",
      "\n",
      "Threshold :  0.9\n",
      "     pred_neg  pred_pos\n",
      "neg       659         0\n",
      "pos        42        12\n",
      "F1 score : 0.9232607195625925\n",
      "Gain : 539\n",
      "\n",
      "Threshold :  1.0\n",
      "     pred_neg  pred_pos\n",
      "neg       659         0\n",
      "pos        54         0\n",
      "F1 score : 0.8878859498117018\n",
      "Gain : 659\n"
     ]
    }
   ],
   "source": [
    "def adjusted_classes(y_scores, t):\n",
    "    return [1 if y >= t else 0 for y in y_scores]\n",
    "\n",
    "# generate new class predictions based on the adjusted_classes\n",
    "# function above and view the resulting confusion matrix.\n",
    "\n",
    "thresholds_all = [f for f in np.arange(0, 1.1, 0.1)]\n",
    "\n",
    "f1_all = []\n",
    "gain_all = []\n",
    "\n",
    "for threshold in thresholds_all:\n",
    "    print ('\\nThreshold : ', threshold)\n",
    "    y_pred_adj = adjusted_classes(y_score[:, 1], threshold)\n",
    "    conf_matrix = pd.DataFrame(confusion_matrix(Ytest, y_pred_adj),\n",
    "                               columns=['pred_neg', 'pred_pos'],\n",
    "                               index=['neg', 'pos'])\n",
    "    print(conf_matrix)\n",
    "    f1 = f1_score(Ytest, y_pred_adj, average='weighted')\n",
    "    good = conf_matrix.iloc[0, 0]\n",
    "    bad = conf_matrix.iloc[1, 1]*10\n",
    "    f1_all.append(f1)\n",
    "    gain_all.append(good-bad)\n",
    "    print (\"F1 score :\", f1)\n",
    "    print (\"Gain :\", good-bad)\n"
   ]
  },
  {
   "cell_type": "code",
   "execution_count": 14,
   "metadata": {
    "colab": {
     "base_uri": "https://localhost:8080/",
     "height": 1000
    },
    "colab_type": "code",
    "executionInfo": {
     "elapsed": 1973,
     "status": "ok",
     "timestamp": 1592528725419,
     "user": {
      "displayName": "Emeline Duquenne",
      "photoUrl": "",
      "userId": "00866747826026678947"
     },
     "user_tz": -120
    },
    "id": "G7s7CTuT-BBl",
    "outputId": "d4194af4-faa3-418f-ccf4-d8568315c87d"
   },
   "outputs": [
    {
     "name": "stdout",
     "output_type": "stream",
     "text": [
      "\n",
      "Threshold :  0.1\n",
      "     pred_neg  pred_pos\n",
      "neg       656         3\n",
      "pos        30        24\n",
      "F1 score : 0.946467358717811\n",
      "Gain : 416\n",
      "\n",
      "Threshold :  0.11\n",
      "     pred_neg  pred_pos\n",
      "neg       656         3\n",
      "pos        30        24\n",
      "F1 score : 0.946467358717811\n",
      "Gain : 416\n",
      "\n",
      "Threshold :  0.12\n",
      "     pred_neg  pred_pos\n",
      "neg       657         2\n",
      "pos        31        23\n",
      "F1 score : 0.9457198763361715\n",
      "Gain : 427\n",
      "\n",
      "Threshold :  0.13\n",
      "     pred_neg  pred_pos\n",
      "neg       657         2\n",
      "pos        31        23\n",
      "F1 score : 0.9457198763361715\n",
      "Gain : 427\n",
      "\n",
      "Threshold :  0.13999999999999999\n",
      "     pred_neg  pred_pos\n",
      "neg       657         2\n",
      "pos        31        23\n",
      "F1 score : 0.9457198763361715\n",
      "Gain : 427\n",
      "\n",
      "Threshold :  0.14999999999999997\n",
      "     pred_neg  pred_pos\n",
      "neg       657         2\n",
      "pos        31        23\n",
      "F1 score : 0.9457198763361715\n",
      "Gain : 427\n",
      "\n",
      "Threshold :  0.15999999999999998\n",
      "     pred_neg  pred_pos\n",
      "neg       657         2\n",
      "pos        32        22\n",
      "F1 score : 0.9436744414312346\n",
      "Gain : 437\n",
      "\n",
      "Threshold :  0.16999999999999998\n",
      "     pred_neg  pred_pos\n",
      "neg       657         2\n",
      "pos        33        21\n",
      "F1 score : 0.9415942429103705\n",
      "Gain : 447\n",
      "\n",
      "Threshold :  0.17999999999999997\n",
      "     pred_neg  pred_pos\n",
      "neg       657         2\n",
      "pos        33        21\n",
      "F1 score : 0.9415942429103705\n",
      "Gain : 447\n",
      "\n",
      "Threshold :  0.18999999999999995\n",
      "     pred_neg  pred_pos\n",
      "neg       657         2\n",
      "pos        33        21\n",
      "F1 score : 0.9415942429103705\n",
      "Gain : 447\n",
      "\n",
      "Threshold :  0.19999999999999996\n",
      "     pred_neg  pred_pos\n",
      "neg       657         2\n",
      "pos        33        21\n",
      "F1 score : 0.9415942429103705\n",
      "Gain : 447\n",
      "\n",
      "Threshold :  0.20999999999999996\n",
      "     pred_neg  pred_pos\n",
      "neg       658         1\n",
      "pos        33        21\n",
      "F1 score : 0.9428402078907725\n",
      "Gain : 448\n",
      "\n",
      "Threshold :  0.21999999999999995\n",
      "     pred_neg  pred_pos\n",
      "neg       658         1\n",
      "pos        34        20\n",
      "F1 score : 0.940711726703922\n",
      "Gain : 458\n",
      "\n",
      "Threshold :  0.22999999999999995\n",
      "     pred_neg  pred_pos\n",
      "neg       658         1\n",
      "pos        34        20\n",
      "F1 score : 0.940711726703922\n",
      "Gain : 458\n",
      "\n",
      "Threshold :  0.23999999999999994\n",
      "     pred_neg  pred_pos\n",
      "neg       658         1\n",
      "pos        34        20\n",
      "F1 score : 0.940711726703922\n",
      "Gain : 458\n",
      "\n",
      "Threshold :  0.24999999999999992\n",
      "     pred_neg  pred_pos\n",
      "neg       658         1\n",
      "pos        34        20\n",
      "F1 score : 0.940711726703922\n",
      "Gain : 458\n",
      "\n",
      "Threshold :  0.2599999999999999\n",
      "     pred_neg  pred_pos\n",
      "neg       658         1\n",
      "pos        34        20\n",
      "F1 score : 0.940711726703922\n",
      "Gain : 458\n",
      "\n",
      "Threshold :  0.2699999999999999\n",
      "     pred_neg  pred_pos\n",
      "neg       658         1\n",
      "pos        34        20\n",
      "F1 score : 0.940711726703922\n",
      "Gain : 458\n",
      "\n",
      "Threshold :  0.2799999999999999\n",
      "     pred_neg  pred_pos\n",
      "neg       658         1\n",
      "pos        34        20\n",
      "F1 score : 0.940711726703922\n",
      "Gain : 458\n",
      "\n",
      "Threshold :  0.2899999999999999\n",
      "     pred_neg  pred_pos\n",
      "neg       658         1\n",
      "pos        34        20\n",
      "F1 score : 0.940711726703922\n",
      "Gain : 458\n",
      "\n",
      "Threshold :  0.29999999999999993\n",
      "     pred_neg  pred_pos\n",
      "neg       658         1\n",
      "pos        34        20\n",
      "F1 score : 0.940711726703922\n",
      "Gain : 458\n",
      "\n",
      "Threshold :  0.30999999999999994\n",
      "     pred_neg  pred_pos\n",
      "neg       658         1\n",
      "pos        34        20\n",
      "F1 score : 0.940711726703922\n",
      "Gain : 458\n",
      "\n",
      "Threshold :  0.3199999999999999\n",
      "     pred_neg  pred_pos\n",
      "neg       658         1\n",
      "pos        35        19\n",
      "F1 score : 0.9385447299461755\n",
      "Gain : 468\n",
      "\n",
      "Threshold :  0.32999999999999985\n",
      "     pred_neg  pred_pos\n",
      "neg       658         1\n",
      "pos        35        19\n",
      "F1 score : 0.9385447299461755\n",
      "Gain : 468\n",
      "\n",
      "Threshold :  0.33999999999999986\n",
      "     pred_neg  pred_pos\n",
      "neg       658         1\n",
      "pos        35        19\n",
      "F1 score : 0.9385447299461755\n",
      "Gain : 468\n",
      "\n",
      "Threshold :  0.34999999999999987\n",
      "     pred_neg  pred_pos\n",
      "neg       658         1\n",
      "pos        35        19\n",
      "F1 score : 0.9385447299461755\n",
      "Gain : 468\n",
      "\n",
      "Threshold :  0.3599999999999999\n",
      "     pred_neg  pred_pos\n",
      "neg       658         1\n",
      "pos        35        19\n",
      "F1 score : 0.9385447299461755\n",
      "Gain : 468\n",
      "\n",
      "Threshold :  0.3699999999999999\n",
      "     pred_neg  pred_pos\n",
      "neg       658         1\n",
      "pos        35        19\n",
      "F1 score : 0.9385447299461755\n",
      "Gain : 468\n",
      "\n",
      "Threshold :  0.3799999999999999\n",
      "     pred_neg  pred_pos\n",
      "neg       658         1\n",
      "pos        35        19\n",
      "F1 score : 0.9385447299461755\n",
      "Gain : 468\n",
      "\n",
      "Threshold :  0.3899999999999999\n",
      "     pred_neg  pred_pos\n",
      "neg       658         1\n",
      "pos        35        19\n",
      "F1 score : 0.9385447299461755\n",
      "Gain : 468\n",
      "\n",
      "Threshold :  0.3999999999999998\n",
      "     pred_neg  pred_pos\n",
      "neg       658         1\n",
      "pos        35        19\n",
      "F1 score : 0.9385447299461755\n",
      "Gain : 468\n"
     ]
    }
   ],
   "source": [
    "thresholds_precise = [f for f in np.arange(0.1, 0.4, 0.01)]\n",
    "f1_precise = []\n",
    "gain_precise = []\n",
    "\n",
    "for threshold in thresholds_precise:\n",
    "    print ('\\nThreshold : ', threshold)\n",
    "    y_pred_adj = adjusted_classes(y_score[:, 1], threshold)\n",
    "    conf_matrix = pd.DataFrame(confusion_matrix(Ytest, y_pred_adj),\n",
    "                               columns=['pred_neg', 'pred_pos'],\n",
    "                               index=['neg', 'pos'])\n",
    "    print(conf_matrix)\n",
    "    f1 = f1_score(Ytest, y_pred_adj, average='weighted')\n",
    "    good = conf_matrix.iloc[0, 0]\n",
    "    bad = conf_matrix.iloc[1, 1]*10\n",
    "    f1_precise.append(f1)\n",
    "    gain_precise.append(good-bad)\n",
    "    print (\"F1 score :\", f1)\n",
    "    print (\"Gain :\", good-bad)\n"
   ]
  },
  {
   "cell_type": "code",
   "execution_count": 15,
   "metadata": {
    "colab": {
     "base_uri": "https://localhost:8080/",
     "height": 584
    },
    "colab_type": "code",
    "executionInfo": {
     "elapsed": 3001,
     "status": "ok",
     "timestamp": 1592528726479,
     "user": {
      "displayName": "Emeline Duquenne",
      "photoUrl": "",
      "userId": "00866747826026678947"
     },
     "user_tz": -120
    },
    "id": "EKvJzXSQX-0l",
    "outputId": "128a9dd9-90fc-4e3f-aa00-ac4d48bb7d56"
   },
   "outputs": [
    {
     "data": {
      "image/png": "[encoded data removed]",
      "text/plain": [
       "<Figure size 432x288 with 2 Axes>"
      ]
     },
     "metadata": {},
     "output_type": "display_data"
    },
    {
     "data": {
      "image/png": "[encoded data removed]",
      "text/plain": [
       "<Figure size 432x288 with 2 Axes>"
      ]
     },
     "metadata": {},
     "output_type": "display_data"
    }
   ],
   "source": [
    "sns.set()\n",
    "plt.figure()\n",
    "plt.plot(thresholds_all, f1_all, label=\"F1 score\")\n",
    "plt.xlabel('Thresholds')\n",
    "plt.ylabel('F1 score')\n",
    "plt.xlim([0.0, 1.0])\n",
    "plt.title('F1 score and gain depending on the threshold')\n",
    "plt.legend(loc=\"lower right\")\n",
    "\n",
    "# create the axis of thresholds (scores)\n",
    "ax2 = plt.gca().twinx()\n",
    "ax2.plot(thresholds_all, gain_all, markeredgecolor='r',\n",
    "         linestyle='dashed', color='r')\n",
    "ax2.set_ylabel('Gain', color='r')\n",
    "\n",
    "plt.show()\n",
    "\n",
    "sns.set()\n",
    "plt.figure()\n",
    "plt.plot(thresholds_precise, f1_precise, label=\"F1 score\")\n",
    "plt.xlabel('Thresholds')\n",
    "plt.ylabel('F1 score')\n",
    "plt.xlim([0.05, 0.31])\n",
    "plt.title('F1 score and gain depending on the threshold')\n",
    "plt.legend(loc=\"lower right\")\n",
    "\n",
    "# create the axis of thresholds (scores)\n",
    "ax2 = plt.gca().twinx()\n",
    "ax2.plot(thresholds_precise, gain_precise, markeredgecolor='r',\n",
    "         linestyle='dashed', color='r')\n",
    "ax2.set_ylabel('Gain', color='r')\n",
    "ax2.set_xlim([0.05, 0.31])\n",
    "\n",
    "plt.show()\n"
   ]
  },
  {
   "cell_type": "code",
   "execution_count": 16,
   "metadata": {
    "colab": {
     "base_uri": "https://localhost:8080/",
     "height": 1000
    },
    "colab_type": "code",
    "executionInfo": {
     "elapsed": 3850,
     "status": "ok",
     "timestamp": 1592528727362,
     "user": {
      "displayName": "Emeline Duquenne",
      "photoUrl": "",
      "userId": "00866747826026678947"
     },
     "user_tz": -120
    },
    "id": "LEFn-HeGIG14",
    "outputId": "ad98d681-8a15-49b1-9f07-c43194a0d256"
   },
   "outputs": [
    {
     "name": "stdout",
     "output_type": "stream",
     "text": [
      "                                     feature  importance\n",
      "50                          YEARS_BUILD_MODE          76\n",
      "36                           YEARS_BUILD_AVG          61\n",
      "31                              EXT_SOURCE_2          56\n",
      "32                              EXT_SOURCE_3          51\n",
      "60                        NONLIVINGAREA_MODE          40\n",
      "74                        NONLIVINGAREA_MEDI          32\n",
      "64                          YEARS_BUILD_MEDI          30\n",
      "4                           AMT_INCOME_TOTAL          28\n",
      "339           CLOSED_DAYS_CREDIT_ENDDATE_MAX          26\n",
      "304                  BURO_STATUS_C_MEAN_MEAN          24\n",
      "383               PREV_RATE_DOWN_PAYMENT_MIN          24\n",
      "641                  INSTAL_PAYMENT_DIFF_SUM          23\n",
      "59                  NONLIVINGAPARTMENTS_MODE          23\n",
      "12                           DAYS_ID_PUBLISH          22\n",
      "632                           INSTAL_DBD_MAX          21\n",
      "240                       DAYS_EMPLOYED_PERC          21\n",
      "308                   ACTIVE_DAYS_CREDIT_MAX          20\n",
      "250             BURO_DAYS_CREDIT_ENDDATE_MAX          19\n",
      "355                  CLOSED_AMT_ANNUITY_MEAN          19\n",
      "244                             PAYMENT_RATE          19\n",
      "337                   CLOSED_DAYS_CREDIT_VAR          19\n",
      "61                           APARTMENTS_MEDI          19\n",
      "723          CC_CNT_DRAWINGS_ATM_CURRENT_VAR          18\n",
      "46                         NONLIVINGAREA_AVG          18\n",
      "302                  BURO_STATUS_4_MEAN_MEAN          17\n",
      "358            CLOSED_MONTHS_BALANCE_MAX_MAX          17\n",
      "45                   NONLIVINGAPARTMENTS_AVG          17\n",
      "298                  BURO_STATUS_0_MEAN_MEAN          17\n",
      "255         BURO_AMT_CREDIT_MAX_OVERDUE_MEAN          17\n",
      "459  PREV_NAME_TYPE_SUITE_Unaccompanied_MEAN          16\n",
      "591             REFUSED_APP_CREDIT_PERC_MEAN          16\n",
      "596              REFUSED_AMT_GOODS_PRICE_MIN          16\n",
      "5                                 AMT_CREDIT          16\n",
      "646                   INSTAL_AMT_PAYMENT_MIN          16\n",
      "722          CC_CNT_DRAWINGS_ATM_CURRENT_SUM          16\n",
      "63              YEARS_BEGINEXPLUATATION_MEDI          16\n",
      "344       CLOSED_AMT_CREDIT_MAX_OVERDUE_MEAN          15\n",
      "251            BURO_DAYS_CREDIT_ENDDATE_MEAN          15\n",
      "332          ACTIVE_MONTHS_BALANCE_SIZE_MEAN          15\n",
      "335                   CLOSED_DAYS_CREDIT_MAX          15\n"
     ]
    },
    {
     "data": {
      "image/png": "[encoded data removed]",
      "text/plain": [
       "<Figure size 576x720 with 1 Axes>"
      ]
     },
     "metadata": {},
     "output_type": "display_data"
    }
   ],
   "source": [
    "feature_importance_df = pd.DataFrame()\n",
    "feature_importance_df[\"feature\"] = Xtest.columns\n",
    "feature_importance_df[\"importance\"] = rf.feature_importances_\n",
    "cols = feature_importance_df[[\n",
    "    \"feature\", \"importance\"]].groupby(\"feature\").mean().sort_values(\n",
    "        by=\"importance\", ascending=False)[:40].index\n",
    "best_features = feature_importance_df.loc[\n",
    "    feature_importance_df.feature.isin(cols)]\n",
    "print (best_features.sort_values(by=\"importance\", ascending=False))\n",
    "\n",
    "sns.set()\n",
    "plt.figure(figsize=(8, 10))\n",
    "sns.barplot(x=\"importance\", y=\"feature\", data=best_features.sort_values(\n",
    "    by=\"importance\", ascending=False))\n",
    "plt.title('Light GBM Classifier Features (avg over folds)')\n",
    "plt.tight_layout()\n",
    "plt.show()\n"
   ]
  },
  {
   "cell_type": "code",
   "execution_count": 18,
   "metadata": {
    "colab": {
     "base_uri": "https://localhost:8080/",
     "height": 496
    },
    "colab_type": "code",
    "executionInfo": {
     "elapsed": 3851,
     "status": "ok",
     "timestamp": 1592529169995,
     "user": {
      "displayName": "Emeline Duquenne",
      "photoUrl": "",
      "userId": "00866747826026678947"
     },
     "user_tz": -120
    },
    "id": "Kru5TXvP_kr0",
    "outputId": "3dce748e-03b2-4863-b1f5-f698b358bcde"
   },
   "outputs": [
    {
     "name": "stdout",
     "output_type": "stream",
     "text": [
      "\n",
      "Threshold :  0.17\n",
      "713\n",
      "Index(['index', 'SK_ID_CURR', 'TARGET', 'CODE_GENDER', 'FLAG_OWN_CAR',\n",
      "       'FLAG_OWN_REALTY', 'CNT_CHILDREN', 'AMT_INCOME_TOTAL', 'AMT_CREDIT',\n",
      "       'AMT_ANNUITY',\n",
      "       ...\n",
      "       'CC_NAME_CONTRACT_STATUS_Signed_MEAN',\n",
      "       'CC_NAME_CONTRACT_STATUS_Signed_SUM',\n",
      "       'CC_NAME_CONTRACT_STATUS_Signed_VAR', 'CC_NAME_CONTRACT_STATUS_nan_MIN',\n",
      "       'CC_NAME_CONTRACT_STATUS_nan_MAX', 'CC_NAME_CONTRACT_STATUS_nan_MEAN',\n",
      "       'CC_NAME_CONTRACT_STATUS_nan_SUM', 'CC_NAME_CONTRACT_STATUS_nan_VAR',\n",
      "       'CC_COUNT', 'TARGET_adj'],\n",
      "      dtype='object', length=799)\n",
      "Enregistrement du modèle terminé\n"
     ]
    },
    {
     "name": "stderr",
     "output_type": "stream",
     "text": [
      "/home/ubuntu/anaconda3/envs/tensorflow_p36/lib/python3.6/site-packages/ipykernel_launcher.py:5: SettingWithCopyWarning: \n",
      "A value is trying to be set on a copy of a slice from a DataFrame.\n",
      "Try using .loc[row_indexer,col_indexer] = value instead\n",
      "\n",
      "See the caveats in the documentation: http://pandas.pydata.org/pandas-docs/stable/indexing.html#indexing-view-versus-copy\n",
      "  \"\"\"\n"
     ]
    },
    {
     "name": "stdout",
     "output_type": "stream",
     "text": [
      "Fichier CSV des données du modèle créé\n",
      "Fichier de la feature importance créé\n"
     ]
    }
   ],
   "source": [
    "print ('\\nThreshold : ', 0.17)\n",
    "y_pred_adj = adjusted_classes(y_score[:, 1], 0.1)\n",
    "print (len(y_pred_adj))\n",
    "#Xtest_all['TARGET'] = y_score[:, 1]\n",
    "Xtest_all['TARGET_adj'] = y_pred_adj\n",
    "\n",
    "print (Xtest_all.columns)\n",
    "\n",
    "filename = 'model'\n",
    "outfile = open(filename,'wb')\n",
    "pickle.dump(rf,outfile)\n",
    "outfile.close()\n",
    "print (\"Enregistrement du modèle terminé\")\n",
    "\n",
    "Xtest_all.to_csv('data_model_dashboard.csv', sep='\\t', index=False)\n",
    "print (\"Fichier CSV des données du modèle créé\")\n",
    "\n",
    "best_features.to_csv('feature_importance.csv', sep='\\t', index=False)\n",
    "print (\"Fichier de la feature importance créé\")\n"
   ]
  },
  {
   "cell_type": "code",
   "execution_count": null,
   "metadata": {},
   "outputs": [],
   "source": []
  }
 ],
 "metadata": {
  "colab": {
   "authorship_tag": "ABX9TyPa0mnKuoCoSH9ewPrS+g1S",
   "collapsed_sections": [
    "r2F8MZGEY1WO"
   ],
   "machine_shape": "hm",
   "name": "projet7_model.ipynb",
   "provenance": []
  },
  "kernelspec": {
   "display_name": "Python 3",
   "language": "python",
   "name": "python3"
  },
  "language_info": {
   "codemirror_mode": {
    "name": "ipython",
    "version": 3
   },
   "file_extension": ".py",
   "mimetype": "text/x-python",
   "name": "python",
   "nbconvert_exporter": "python",
   "pygments_lexer": "ipython3",
   "version": "3.6.7"
  }
 },
 "nbformat": 4,
 "nbformat_minor": 1
}
